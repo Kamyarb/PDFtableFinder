{
 "cells": [
  {
   "cell_type": "code",
   "execution_count": 1,
   "metadata": {},
   "outputs": [],
   "source": [
    "import plotly.express as px\n",
    "import dtale\n",
    "import os\n",
    "import tempfile\n",
    "from datetime import date as dt_date\n",
    "from datetime import datetime\n",
    "from datetime import time as dt_tm\n",
    "\n",
    "import numpy as np\n",
    "import pandas as pd\n",
    "import plotly as py\n",
    "import plotly.graph_objs as go\n",
    "import plotly.offline as py\n",
    "import plotly.tools as plotly_tools\n",
    "\n",
    "import matplotlib.pyplot as plt\n",
    "import plotly.express as px\n",
    "from IPython.display import HTML\n",
    "from scipy.stats import gaussian_kde\n",
    "import dtale\n"
   ]
  },
  {
   "cell_type": "code",
   "execution_count": 2,
   "metadata": {},
   "outputs": [
    {
     "data": {
      "text/html": [
       "<div>\n",
       "<style scoped>\n",
       "    .dataframe tbody tr th:only-of-type {\n",
       "        vertical-align: middle;\n",
       "    }\n",
       "\n",
       "    .dataframe tbody tr th {\n",
       "        vertical-align: top;\n",
       "    }\n",
       "\n",
       "    .dataframe thead th {\n",
       "        text-align: right;\n",
       "    }\n",
       "</style>\n",
       "<table border=\"1\" class=\"dataframe\">\n",
       "  <thead>\n",
       "    <tr style=\"text-align: right;\">\n",
       "      <th></th>\n",
       "      <th>Unnamed: 0</th>\n",
       "      <th>نرخ تورم</th>\n",
       "      <th>متوسط سال</th>\n",
       "      <th>اسفند</th>\n",
       "      <th>بهمن</th>\n",
       "      <th>دي</th>\n",
       "      <th>آذر</th>\n",
       "      <th>آبان</th>\n",
       "      <th>مهر</th>\n",
       "      <th>شهريور</th>\n",
       "      <th>مرداد</th>\n",
       "      <th>تير</th>\n",
       "      <th>خرداد</th>\n",
       "      <th>ارديبهشت</th>\n",
       "      <th>فروردين</th>\n",
       "      <th>ماه\\rسال</th>\n",
       "    </tr>\n",
       "  </thead>\n",
       "  <tbody>\n",
       "    <tr>\n",
       "      <th>2</th>\n",
       "      <td>NaN</td>\n",
       "      <td>20/7</td>\n",
       "      <td>1/2</td>\n",
       "      <td>1/4</td>\n",
       "      <td>1/3</td>\n",
       "      <td>1/2</td>\n",
       "      <td>1/2</td>\n",
       "      <td>1/2</td>\n",
       "      <td>1/2</td>\n",
       "      <td>1/2</td>\n",
       "      <td>1/2</td>\n",
       "      <td>1/1</td>\n",
       "      <td>1/1</td>\n",
       "      <td>1/1</td>\n",
       "      <td>1/1</td>\n",
       "      <td>1370.0</td>\n",
       "    </tr>\n",
       "    <tr>\n",
       "      <th>3</th>\n",
       "      <td>NaN</td>\n",
       "      <td>24/4</td>\n",
       "      <td>1/5</td>\n",
       "      <td>1/6</td>\n",
       "      <td>1/6</td>\n",
       "      <td>1/5</td>\n",
       "      <td>1/5</td>\n",
       "      <td>1/5</td>\n",
       "      <td>1/5</td>\n",
       "      <td>1/5</td>\n",
       "      <td>1/5</td>\n",
       "      <td>1/4</td>\n",
       "      <td>1/4</td>\n",
       "      <td>1/4</td>\n",
       "      <td>1/4</td>\n",
       "      <td>1371.0</td>\n",
       "    </tr>\n",
       "    <tr>\n",
       "      <th>4</th>\n",
       "      <td>NaN</td>\n",
       "      <td>22/9</td>\n",
       "      <td>1/8</td>\n",
       "      <td>2/1</td>\n",
       "      <td>2/0</td>\n",
       "      <td>1/9</td>\n",
       "      <td>1/9</td>\n",
       "      <td>1/8</td>\n",
       "      <td>1/8</td>\n",
       "      <td>1/8</td>\n",
       "      <td>1/7</td>\n",
       "      <td>1/7</td>\n",
       "      <td>1/7</td>\n",
       "      <td>1/7</td>\n",
       "      <td>1/7</td>\n",
       "      <td>1372.0</td>\n",
       "    </tr>\n",
       "    <tr>\n",
       "      <th>5</th>\n",
       "      <td>NaN</td>\n",
       "      <td>35/2</td>\n",
       "      <td>2/5</td>\n",
       "      <td>3/0</td>\n",
       "      <td>2/8</td>\n",
       "      <td>2/6</td>\n",
       "      <td>2/5</td>\n",
       "      <td>2/5</td>\n",
       "      <td>2/5</td>\n",
       "      <td>2/4</td>\n",
       "      <td>2/3</td>\n",
       "      <td>2/3</td>\n",
       "      <td>2/2</td>\n",
       "      <td>2/2</td>\n",
       "      <td>2/1</td>\n",
       "      <td>1373.0</td>\n",
       "    </tr>\n",
       "    <tr>\n",
       "      <th>6</th>\n",
       "      <td>NaN</td>\n",
       "      <td>49/4</td>\n",
       "      <td>3/7</td>\n",
       "      <td>4/1</td>\n",
       "      <td>4/0</td>\n",
       "      <td>4/0</td>\n",
       "      <td>3/8</td>\n",
       "      <td>3/7</td>\n",
       "      <td>3/6</td>\n",
       "      <td>3/5</td>\n",
       "      <td>3/5</td>\n",
       "      <td>3/5</td>\n",
       "      <td>3/5</td>\n",
       "      <td>3/5</td>\n",
       "      <td>3/2</td>\n",
       "      <td>1374.0</td>\n",
       "    </tr>\n",
       "    <tr>\n",
       "      <th>7</th>\n",
       "      <td>NaN</td>\n",
       "      <td>23/2</td>\n",
       "      <td>4/5</td>\n",
       "      <td>4/8</td>\n",
       "      <td>4/8</td>\n",
       "      <td>4/7</td>\n",
       "      <td>4/6</td>\n",
       "      <td>4/6</td>\n",
       "      <td>4/5</td>\n",
       "      <td>4/4</td>\n",
       "      <td>4/4</td>\n",
       "      <td>4/4</td>\n",
       "      <td>4/4</td>\n",
       "      <td>4/4</td>\n",
       "      <td>4/4</td>\n",
       "      <td>1375.0</td>\n",
       "    </tr>\n",
       "    <tr>\n",
       "      <th>8</th>\n",
       "      <td>NaN</td>\n",
       "      <td>17/3</td>\n",
       "      <td>5/3</td>\n",
       "      <td>5/7</td>\n",
       "      <td>5/6</td>\n",
       "      <td>5/5</td>\n",
       "      <td>5/4</td>\n",
       "      <td>5/3</td>\n",
       "      <td>5/2</td>\n",
       "      <td>5/2</td>\n",
       "      <td>5/2</td>\n",
       "      <td>5/1</td>\n",
       "      <td>5/1</td>\n",
       "      <td>5/1</td>\n",
       "      <td>5/0</td>\n",
       "      <td>1376.0</td>\n",
       "    </tr>\n",
       "    <tr>\n",
       "      <th>9</th>\n",
       "      <td>NaN</td>\n",
       "      <td>18/1</td>\n",
       "      <td>6/3</td>\n",
       "      <td>6/8</td>\n",
       "      <td>6/7</td>\n",
       "      <td>6/5</td>\n",
       "      <td>6/5</td>\n",
       "      <td>6/3</td>\n",
       "      <td>6/2</td>\n",
       "      <td>6/1</td>\n",
       "      <td>6/0</td>\n",
       "      <td>6/0</td>\n",
       "      <td>6/0</td>\n",
       "      <td>6/0</td>\n",
       "      <td>6/0</td>\n",
       "      <td>1377.0</td>\n",
       "    </tr>\n",
       "    <tr>\n",
       "      <th>10</th>\n",
       "      <td>NaN</td>\n",
       "      <td>20/1</td>\n",
       "      <td>7/5</td>\n",
       "      <td>8/1</td>\n",
       "      <td>7/9</td>\n",
       "      <td>7/8</td>\n",
       "      <td>7/7</td>\n",
       "      <td>7/5</td>\n",
       "      <td>7/5</td>\n",
       "      <td>7/4</td>\n",
       "      <td>7/3</td>\n",
       "      <td>7/3</td>\n",
       "      <td>7/3</td>\n",
       "      <td>7/3</td>\n",
       "      <td>7/2</td>\n",
       "      <td>1378.0</td>\n",
       "    </tr>\n",
       "    <tr>\n",
       "      <th>11</th>\n",
       "      <td>NaN</td>\n",
       "      <td>12/6</td>\n",
       "      <td>8/5</td>\n",
       "      <td>9/0</td>\n",
       "      <td>8/8</td>\n",
       "      <td>8/7</td>\n",
       "      <td>8/7</td>\n",
       "      <td>8/5</td>\n",
       "      <td>8/4</td>\n",
       "      <td>8/3</td>\n",
       "      <td>8/3</td>\n",
       "      <td>8/2</td>\n",
       "      <td>8/3</td>\n",
       "      <td>8/1</td>\n",
       "      <td>8/1</td>\n",
       "      <td>1379.0</td>\n",
       "    </tr>\n",
       "    <tr>\n",
       "      <th>12</th>\n",
       "      <td>11/4</td>\n",
       "      <td>9/4</td>\n",
       "      <td>10/0</td>\n",
       "      <td>9/8</td>\n",
       "      <td>9/7</td>\n",
       "      <td>9/6</td>\n",
       "      <td>9/4</td>\n",
       "      <td>9/4</td>\n",
       "      <td>9/3</td>\n",
       "      <td>9/3</td>\n",
       "      <td>9/2</td>\n",
       "      <td>9/2</td>\n",
       "      <td>9/1</td>\n",
       "      <td>9/1</td>\n",
       "      <td>1380</td>\n",
       "      <td>NaN</td>\n",
       "    </tr>\n",
       "    <tr>\n",
       "      <th>13</th>\n",
       "      <td>15/8</td>\n",
       "      <td>10/9</td>\n",
       "      <td>11/8</td>\n",
       "      <td>11/6</td>\n",
       "      <td>11/4</td>\n",
       "      <td>11/2</td>\n",
       "      <td>11/0</td>\n",
       "      <td>10/8</td>\n",
       "      <td>10/8</td>\n",
       "      <td>10/6</td>\n",
       "      <td>10/6</td>\n",
       "      <td>10/6</td>\n",
       "      <td>10/4</td>\n",
       "      <td>10/2</td>\n",
       "      <td>1381</td>\n",
       "      <td>NaN</td>\n",
       "    </tr>\n",
       "    <tr>\n",
       "      <th>14</th>\n",
       "      <td>15/6</td>\n",
       "      <td>12/6</td>\n",
       "      <td>13/4</td>\n",
       "      <td>13/2</td>\n",
       "      <td>13/1</td>\n",
       "      <td>12/9</td>\n",
       "      <td>12/7</td>\n",
       "      <td>12/5</td>\n",
       "      <td>12/4</td>\n",
       "      <td>12/4</td>\n",
       "      <td>12/4</td>\n",
       "      <td>12/3</td>\n",
       "      <td>12/1</td>\n",
       "      <td>12/0</td>\n",
       "      <td>1382</td>\n",
       "      <td>NaN</td>\n",
       "    </tr>\n",
       "    <tr>\n",
       "      <th>15</th>\n",
       "      <td>15/2</td>\n",
       "      <td>14/5</td>\n",
       "      <td>15/5</td>\n",
       "      <td>15/2</td>\n",
       "      <td>15/0</td>\n",
       "      <td>14/8</td>\n",
       "      <td>14/7</td>\n",
       "      <td>14/6</td>\n",
       "      <td>14/4</td>\n",
       "      <td>14/4</td>\n",
       "      <td>14/3</td>\n",
       "      <td>14/1</td>\n",
       "      <td>13/9</td>\n",
       "      <td>13/7</td>\n",
       "      <td>1383</td>\n",
       "      <td>NaN</td>\n",
       "    </tr>\n",
       "    <tr>\n",
       "      <th>16</th>\n",
       "      <td>10/4</td>\n",
       "      <td>16/1</td>\n",
       "      <td>16/7</td>\n",
       "      <td>16/5</td>\n",
       "      <td>16/3</td>\n",
       "      <td>16/2</td>\n",
       "      <td>16/0</td>\n",
       "      <td>15/9</td>\n",
       "      <td>15/8</td>\n",
       "      <td>15/7</td>\n",
       "      <td>15/7</td>\n",
       "      <td>15/8</td>\n",
       "      <td>15/9</td>\n",
       "      <td>16/0</td>\n",
       "      <td>1384</td>\n",
       "      <td>NaN</td>\n",
       "    </tr>\n",
       "    <tr>\n",
       "      <th>17</th>\n",
       "      <td>11/9</td>\n",
       "      <td>18/0</td>\n",
       "      <td>19/4</td>\n",
       "      <td>19/2</td>\n",
       "      <td>18/9</td>\n",
       "      <td>18/5</td>\n",
       "      <td>18/1</td>\n",
       "      <td>17/9</td>\n",
       "      <td>17/7</td>\n",
       "      <td>17/4</td>\n",
       "      <td>17/3</td>\n",
       "      <td>17/3</td>\n",
       "      <td>17/0</td>\n",
       "      <td>16/9</td>\n",
       "      <td>1385</td>\n",
       "      <td>NaN</td>\n",
       "    </tr>\n",
       "    <tr>\n",
       "      <th>18</th>\n",
       "      <td>18/4</td>\n",
       "      <td>21/3</td>\n",
       "      <td>23/7</td>\n",
       "      <td>23/0</td>\n",
       "      <td>22/5</td>\n",
       "      <td>22/2</td>\n",
       "      <td>21/6</td>\n",
       "      <td>21/2</td>\n",
       "      <td>20/9</td>\n",
       "      <td>20/4</td>\n",
       "      <td>20/2</td>\n",
       "      <td>20/1</td>\n",
       "      <td>19/8</td>\n",
       "      <td>19/7</td>\n",
       "      <td>1386</td>\n",
       "      <td>NaN</td>\n",
       "    </tr>\n",
       "    <tr>\n",
       "      <th>19</th>\n",
       "      <td>25/4</td>\n",
       "      <td>26/7</td>\n",
       "      <td>27/9</td>\n",
       "      <td>27/8</td>\n",
       "      <td>27/9</td>\n",
       "      <td>28/0</td>\n",
       "      <td>27/7</td>\n",
       "      <td>27/5</td>\n",
       "      <td>27/0</td>\n",
       "      <td>26/0</td>\n",
       "      <td>25/5</td>\n",
       "      <td>25/4</td>\n",
       "      <td>24/8</td>\n",
       "      <td>24/4</td>\n",
       "      <td>1387</td>\n",
       "      <td>NaN</td>\n",
       "    </tr>\n",
       "    <tr>\n",
       "      <th>20</th>\n",
       "      <td>10/8</td>\n",
       "      <td>29/5</td>\n",
       "      <td>30/8</td>\n",
       "      <td>30/3</td>\n",
       "      <td>30/1</td>\n",
       "      <td>30/1</td>\n",
       "      <td>29/7</td>\n",
       "      <td>29/6</td>\n",
       "      <td>29/5</td>\n",
       "      <td>29/4</td>\n",
       "      <td>29/1</td>\n",
       "      <td>29/1</td>\n",
       "      <td>28/6</td>\n",
       "      <td>28/2</td>\n",
       "      <td>1388</td>\n",
       "      <td>NaN</td>\n",
       "    </tr>\n",
       "    <tr>\n",
       "      <th>21</th>\n",
       "      <td>12/4</td>\n",
       "      <td>33/2</td>\n",
       "      <td>36/9</td>\n",
       "      <td>35/7</td>\n",
       "      <td>34/8</td>\n",
       "      <td>33/9</td>\n",
       "      <td>33/4</td>\n",
       "      <td>33/1</td>\n",
       "      <td>32/5</td>\n",
       "      <td>32/2</td>\n",
       "      <td>31/8</td>\n",
       "      <td>31/5</td>\n",
       "      <td>31/2</td>\n",
       "      <td>31/1</td>\n",
       "      <td>1389</td>\n",
       "      <td>NaN</td>\n",
       "    </tr>\n",
       "    <tr>\n",
       "      <th>22</th>\n",
       "      <td>21/5</td>\n",
       "      <td>40/3</td>\n",
       "      <td>44/5</td>\n",
       "      <td>43/1</td>\n",
       "      <td>42/0</td>\n",
       "      <td>41/4</td>\n",
       "      <td>40/8</td>\n",
       "      <td>40/2</td>\n",
       "      <td>39/8</td>\n",
       "      <td>39/1</td>\n",
       "      <td>38/7</td>\n",
       "      <td>38/6</td>\n",
       "      <td>38/1</td>\n",
       "      <td>37/5</td>\n",
       "      <td>1390</td>\n",
       "      <td>NaN</td>\n",
       "    </tr>\n",
       "    <tr>\n",
       "      <th>23</th>\n",
       "      <td>30/5</td>\n",
       "      <td>52/6</td>\n",
       "      <td>62/9</td>\n",
       "      <td>60/5</td>\n",
       "      <td>57/5</td>\n",
       "      <td>56/4</td>\n",
       "      <td>55/2</td>\n",
       "      <td>52/7</td>\n",
       "      <td>50/3</td>\n",
       "      <td>48/9</td>\n",
       "      <td>48/1</td>\n",
       "      <td>47/1</td>\n",
       "      <td>46/6</td>\n",
       "      <td>45/5</td>\n",
       "      <td>1391</td>\n",
       "      <td>NaN</td>\n",
       "    </tr>\n",
       "    <tr>\n",
       "      <th>24</th>\n",
       "      <td>34/7</td>\n",
       "      <td>70/9</td>\n",
       "      <td>75/2</td>\n",
       "      <td>74/3</td>\n",
       "      <td>74/0</td>\n",
       "      <td>73/1</td>\n",
       "      <td>72/8</td>\n",
       "      <td>72/1</td>\n",
       "      <td>71/2</td>\n",
       "      <td>70/0</td>\n",
       "      <td>69/2</td>\n",
       "      <td>68/3</td>\n",
       "      <td>66/0</td>\n",
       "      <td>64/7</td>\n",
       "      <td>1392</td>\n",
       "      <td>NaN</td>\n",
       "    </tr>\n",
       "    <tr>\n",
       "      <th>25</th>\n",
       "      <td>15/6</td>\n",
       "      <td>81/9</td>\n",
       "      <td>87/4</td>\n",
       "      <td>86/3</td>\n",
       "      <td>85/6</td>\n",
       "      <td>85/4</td>\n",
       "      <td>83/8</td>\n",
       "      <td>82/6</td>\n",
       "      <td>81/4</td>\n",
       "      <td>80/4</td>\n",
       "      <td>79/3</td>\n",
       "      <td>78/2</td>\n",
       "      <td>76/9</td>\n",
       "      <td>76/0</td>\n",
       "      <td>1393</td>\n",
       "      <td>NaN</td>\n",
       "    </tr>\n",
       "    <tr>\n",
       "      <th>26</th>\n",
       "      <td>11/9</td>\n",
       "      <td>91/7</td>\n",
       "      <td>94/7</td>\n",
       "      <td>94/0</td>\n",
       "      <td>93/8</td>\n",
       "      <td>93/4</td>\n",
       "      <td>92/2</td>\n",
       "      <td>91/5</td>\n",
       "      <td>91/0</td>\n",
       "      <td>90/5</td>\n",
       "      <td>90/6</td>\n",
       "      <td>90/9</td>\n",
       "      <td>89/4</td>\n",
       "      <td>88/5</td>\n",
       "      <td>1394</td>\n",
       "      <td>NaN</td>\n",
       "    </tr>\n",
       "    <tr>\n",
       "      <th>27</th>\n",
       "      <td>9/0</td>\n",
       "      <td>100/0</td>\n",
       "      <td>105/9</td>\n",
       "      <td>103/7</td>\n",
       "      <td>102/5</td>\n",
       "      <td>101/7</td>\n",
       "      <td>100/2</td>\n",
       "      <td>100/0</td>\n",
       "      <td>99/6</td>\n",
       "      <td>99/2</td>\n",
       "      <td>98/3</td>\n",
       "      <td>97/7</td>\n",
       "      <td>96/3</td>\n",
       "      <td>95/0</td>\n",
       "      <td>1395</td>\n",
       "      <td>NaN</td>\n",
       "    </tr>\n",
       "    <tr>\n",
       "      <th>28</th>\n",
       "      <td>9/6</td>\n",
       "      <td>109/6</td>\n",
       "      <td>114/7</td>\n",
       "      <td>113/4</td>\n",
       "      <td>112/4</td>\n",
       "      <td>111/9</td>\n",
       "      <td>109/8</td>\n",
       "      <td>108/4</td>\n",
       "      <td>108/0</td>\n",
       "      <td>107/7</td>\n",
       "      <td>107/5</td>\n",
       "      <td>107/8</td>\n",
       "      <td>107/1</td>\n",
       "      <td>107/1</td>\n",
       "      <td>1396</td>\n",
       "      <td>NaN</td>\n",
       "    </tr>\n",
       "    <tr>\n",
       "      <th>29</th>\n",
       "      <td>NaN</td>\n",
       "      <td>NaN</td>\n",
       "      <td>NaN</td>\n",
       "      <td>NaN</td>\n",
       "      <td>NaN</td>\n",
       "      <td>NaN</td>\n",
       "      <td>153/6</td>\n",
       "      <td>148/4</td>\n",
       "      <td>141/9</td>\n",
       "      <td>133/8</td>\n",
       "      <td>126/8</td>\n",
       "      <td>122/6</td>\n",
       "      <td>117/5</td>\n",
       "      <td>115/6</td>\n",
       "      <td>1397</td>\n",
       "      <td>NaN</td>\n",
       "    </tr>\n",
       "  </tbody>\n",
       "</table>\n",
       "</div>"
      ],
      "text/plain": [
       "   Unnamed: 0 نرخ تورم متوسط سال  اسفند   بهمن     دي    آذر   آبان    مهر  \\\n",
       "2         NaN     20/7       1/2    1/4    1/3    1/2    1/2    1/2    1/2   \n",
       "3         NaN     24/4       1/5    1/6    1/6    1/5    1/5    1/5    1/5   \n",
       "4         NaN     22/9       1/8    2/1    2/0    1/9    1/9    1/8    1/8   \n",
       "5         NaN     35/2       2/5    3/0    2/8    2/6    2/5    2/5    2/5   \n",
       "6         NaN     49/4       3/7    4/1    4/0    4/0    3/8    3/7    3/6   \n",
       "7         NaN     23/2       4/5    4/8    4/8    4/7    4/6    4/6    4/5   \n",
       "8         NaN     17/3       5/3    5/7    5/6    5/5    5/4    5/3    5/2   \n",
       "9         NaN     18/1       6/3    6/8    6/7    6/5    6/5    6/3    6/2   \n",
       "10        NaN     20/1       7/5    8/1    7/9    7/8    7/7    7/5    7/5   \n",
       "11        NaN     12/6       8/5    9/0    8/8    8/7    8/7    8/5    8/4   \n",
       "12       11/4      9/4      10/0    9/8    9/7    9/6    9/4    9/4    9/3   \n",
       "13       15/8     10/9      11/8   11/6   11/4   11/2   11/0   10/8   10/8   \n",
       "14       15/6     12/6      13/4   13/2   13/1   12/9   12/7   12/5   12/4   \n",
       "15       15/2     14/5      15/5   15/2   15/0   14/8   14/7   14/6   14/4   \n",
       "16       10/4     16/1      16/7   16/5   16/3   16/2   16/0   15/9   15/8   \n",
       "17       11/9     18/0      19/4   19/2   18/9   18/5   18/1   17/9   17/7   \n",
       "18       18/4     21/3      23/7   23/0   22/5   22/2   21/6   21/2   20/9   \n",
       "19       25/4     26/7      27/9   27/8   27/9   28/0   27/7   27/5   27/0   \n",
       "20       10/8     29/5      30/8   30/3   30/1   30/1   29/7   29/6   29/5   \n",
       "21       12/4     33/2      36/9   35/7   34/8   33/9   33/4   33/1   32/5   \n",
       "22       21/5     40/3      44/5   43/1   42/0   41/4   40/8   40/2   39/8   \n",
       "23       30/5     52/6      62/9   60/5   57/5   56/4   55/2   52/7   50/3   \n",
       "24       34/7     70/9      75/2   74/3   74/0   73/1   72/8   72/1   71/2   \n",
       "25       15/6     81/9      87/4   86/3   85/6   85/4   83/8   82/6   81/4   \n",
       "26       11/9     91/7      94/7   94/0   93/8   93/4   92/2   91/5   91/0   \n",
       "27        9/0    100/0     105/9  103/7  102/5  101/7  100/2  100/0   99/6   \n",
       "28        9/6    109/6     114/7  113/4  112/4  111/9  109/8  108/4  108/0   \n",
       "29        NaN      NaN       NaN    NaN    NaN    NaN  153/6  148/4  141/9   \n",
       "\n",
       "   شهريور  مرداد    تير  خرداد ارديبهشت فروردين  ماه\\rسال  \n",
       "2     1/2    1/2    1/1    1/1      1/1     1/1    1370.0  \n",
       "3     1/5    1/5    1/4    1/4      1/4     1/4    1371.0  \n",
       "4     1/8    1/7    1/7    1/7      1/7     1/7    1372.0  \n",
       "5     2/4    2/3    2/3    2/2      2/2     2/1    1373.0  \n",
       "6     3/5    3/5    3/5    3/5      3/5     3/2    1374.0  \n",
       "7     4/4    4/4    4/4    4/4      4/4     4/4    1375.0  \n",
       "8     5/2    5/2    5/1    5/1      5/1     5/0    1376.0  \n",
       "9     6/1    6/0    6/0    6/0      6/0     6/0    1377.0  \n",
       "10    7/4    7/3    7/3    7/3      7/3     7/2    1378.0  \n",
       "11    8/3    8/3    8/2    8/3      8/1     8/1    1379.0  \n",
       "12    9/3    9/2    9/2    9/1      9/1    1380       NaN  \n",
       "13   10/6   10/6   10/6   10/4     10/2    1381       NaN  \n",
       "14   12/4   12/4   12/3   12/1     12/0    1382       NaN  \n",
       "15   14/4   14/3   14/1   13/9     13/7    1383       NaN  \n",
       "16   15/7   15/7   15/8   15/9     16/0    1384       NaN  \n",
       "17   17/4   17/3   17/3   17/0     16/9    1385       NaN  \n",
       "18   20/4   20/2   20/1   19/8     19/7    1386       NaN  \n",
       "19   26/0   25/5   25/4   24/8     24/4    1387       NaN  \n",
       "20   29/4   29/1   29/1   28/6     28/2    1388       NaN  \n",
       "21   32/2   31/8   31/5   31/2     31/1    1389       NaN  \n",
       "22   39/1   38/7   38/6   38/1     37/5    1390       NaN  \n",
       "23   48/9   48/1   47/1   46/6     45/5    1391       NaN  \n",
       "24   70/0   69/2   68/3   66/0     64/7    1392       NaN  \n",
       "25   80/4   79/3   78/2   76/9     76/0    1393       NaN  \n",
       "26   90/5   90/6   90/9   89/4     88/5    1394       NaN  \n",
       "27   99/2   98/3   97/7   96/3     95/0    1395       NaN  \n",
       "28  107/7  107/5  107/8  107/1    107/1    1396       NaN  \n",
       "29  133/8  126/8  122/6  117/5    115/6    1397       NaN  "
      ]
     },
     "execution_count": 2,
     "metadata": {},
     "output_type": "execute_result"
    }
   ],
   "source": [
    "import tabula\n",
    "\n",
    "file = \"https://www.cbi.ir/page/10808.aspx\"\n",
    "\n",
    " \n",
    "tables = tabula.read_pdf(file, pages = \"all\", multiple_tables = True)\n",
    "# %%\n",
    "df=tables[1].copy()\n",
    "df= df.drop([0,1], axis = 0)\n",
    "df"
   ]
  },
  {
   "cell_type": "code",
   "execution_count": 3,
   "metadata": {},
   "outputs": [
    {
     "data": {
      "text/html": [
       "<div>\n",
       "<style scoped>\n",
       "    .dataframe tbody tr th:only-of-type {\n",
       "        vertical-align: middle;\n",
       "    }\n",
       "\n",
       "    .dataframe tbody tr th {\n",
       "        vertical-align: top;\n",
       "    }\n",
       "\n",
       "    .dataframe thead th {\n",
       "        text-align: right;\n",
       "    }\n",
       "</style>\n",
       "<table border=\"1\" class=\"dataframe\">\n",
       "  <thead>\n",
       "    <tr style=\"text-align: right;\">\n",
       "      <th></th>\n",
       "      <th>inflation</th>\n",
       "      <th>avgYear</th>\n",
       "      <th>esfand</th>\n",
       "      <th>bahman</th>\n",
       "      <th>dey</th>\n",
       "      <th>azar</th>\n",
       "      <th>aban</th>\n",
       "      <th>mehr</th>\n",
       "      <th>shahrivar</th>\n",
       "      <th>mordad</th>\n",
       "      <th>tir</th>\n",
       "      <th>khordad</th>\n",
       "      <th>ordibehesht</th>\n",
       "      <th>farvardin</th>\n",
       "      <th>year</th>\n",
       "    </tr>\n",
       "  </thead>\n",
       "  <tbody>\n",
       "    <tr>\n",
       "      <th>0</th>\n",
       "      <td>20.7</td>\n",
       "      <td>1.2</td>\n",
       "      <td>1.4</td>\n",
       "      <td>1.3</td>\n",
       "      <td>1.2</td>\n",
       "      <td>1.2</td>\n",
       "      <td>1.2</td>\n",
       "      <td>1.2</td>\n",
       "      <td>1.2</td>\n",
       "      <td>1.2</td>\n",
       "      <td>1.1</td>\n",
       "      <td>1.1</td>\n",
       "      <td>1.1</td>\n",
       "      <td>1.1</td>\n",
       "      <td>1370.0</td>\n",
       "    </tr>\n",
       "    <tr>\n",
       "      <th>1</th>\n",
       "      <td>24.4</td>\n",
       "      <td>1.5</td>\n",
       "      <td>1.6</td>\n",
       "      <td>1.6</td>\n",
       "      <td>1.5</td>\n",
       "      <td>1.5</td>\n",
       "      <td>1.5</td>\n",
       "      <td>1.5</td>\n",
       "      <td>1.5</td>\n",
       "      <td>1.5</td>\n",
       "      <td>1.4</td>\n",
       "      <td>1.4</td>\n",
       "      <td>1.4</td>\n",
       "      <td>1.4</td>\n",
       "      <td>1371.0</td>\n",
       "    </tr>\n",
       "    <tr>\n",
       "      <th>2</th>\n",
       "      <td>22.9</td>\n",
       "      <td>1.8</td>\n",
       "      <td>2.1</td>\n",
       "      <td>2.0</td>\n",
       "      <td>1.9</td>\n",
       "      <td>1.9</td>\n",
       "      <td>1.8</td>\n",
       "      <td>1.8</td>\n",
       "      <td>1.8</td>\n",
       "      <td>1.7</td>\n",
       "      <td>1.7</td>\n",
       "      <td>1.7</td>\n",
       "      <td>1.7</td>\n",
       "      <td>1.7</td>\n",
       "      <td>1372.0</td>\n",
       "    </tr>\n",
       "    <tr>\n",
       "      <th>3</th>\n",
       "      <td>35.2</td>\n",
       "      <td>2.5</td>\n",
       "      <td>3.0</td>\n",
       "      <td>2.8</td>\n",
       "      <td>2.6</td>\n",
       "      <td>2.5</td>\n",
       "      <td>2.5</td>\n",
       "      <td>2.5</td>\n",
       "      <td>2.4</td>\n",
       "      <td>2.3</td>\n",
       "      <td>2.3</td>\n",
       "      <td>2.2</td>\n",
       "      <td>2.2</td>\n",
       "      <td>2.1</td>\n",
       "      <td>1373.0</td>\n",
       "    </tr>\n",
       "    <tr>\n",
       "      <th>4</th>\n",
       "      <td>49.4</td>\n",
       "      <td>3.7</td>\n",
       "      <td>4.1</td>\n",
       "      <td>4.0</td>\n",
       "      <td>4.0</td>\n",
       "      <td>3.8</td>\n",
       "      <td>3.7</td>\n",
       "      <td>3.6</td>\n",
       "      <td>3.5</td>\n",
       "      <td>3.5</td>\n",
       "      <td>3.5</td>\n",
       "      <td>3.5</td>\n",
       "      <td>3.5</td>\n",
       "      <td>3.2</td>\n",
       "      <td>1374.0</td>\n",
       "    </tr>\n",
       "    <tr>\n",
       "      <th>5</th>\n",
       "      <td>23.2</td>\n",
       "      <td>4.5</td>\n",
       "      <td>4.8</td>\n",
       "      <td>4.8</td>\n",
       "      <td>4.7</td>\n",
       "      <td>4.6</td>\n",
       "      <td>4.6</td>\n",
       "      <td>4.5</td>\n",
       "      <td>4.4</td>\n",
       "      <td>4.4</td>\n",
       "      <td>4.4</td>\n",
       "      <td>4.4</td>\n",
       "      <td>4.4</td>\n",
       "      <td>4.4</td>\n",
       "      <td>1375.0</td>\n",
       "    </tr>\n",
       "    <tr>\n",
       "      <th>6</th>\n",
       "      <td>17.3</td>\n",
       "      <td>5.3</td>\n",
       "      <td>5.7</td>\n",
       "      <td>5.6</td>\n",
       "      <td>5.5</td>\n",
       "      <td>5.4</td>\n",
       "      <td>5.3</td>\n",
       "      <td>5.2</td>\n",
       "      <td>5.2</td>\n",
       "      <td>5.2</td>\n",
       "      <td>5.1</td>\n",
       "      <td>5.1</td>\n",
       "      <td>5.1</td>\n",
       "      <td>5.0</td>\n",
       "      <td>1376.0</td>\n",
       "    </tr>\n",
       "    <tr>\n",
       "      <th>7</th>\n",
       "      <td>18.1</td>\n",
       "      <td>6.3</td>\n",
       "      <td>6.8</td>\n",
       "      <td>6.7</td>\n",
       "      <td>6.5</td>\n",
       "      <td>6.5</td>\n",
       "      <td>6.3</td>\n",
       "      <td>6.2</td>\n",
       "      <td>6.1</td>\n",
       "      <td>6.0</td>\n",
       "      <td>6.0</td>\n",
       "      <td>6.0</td>\n",
       "      <td>6.0</td>\n",
       "      <td>6.0</td>\n",
       "      <td>1377.0</td>\n",
       "    </tr>\n",
       "    <tr>\n",
       "      <th>8</th>\n",
       "      <td>20.1</td>\n",
       "      <td>7.5</td>\n",
       "      <td>8.1</td>\n",
       "      <td>7.9</td>\n",
       "      <td>7.8</td>\n",
       "      <td>7.7</td>\n",
       "      <td>7.5</td>\n",
       "      <td>7.5</td>\n",
       "      <td>7.4</td>\n",
       "      <td>7.3</td>\n",
       "      <td>7.3</td>\n",
       "      <td>7.3</td>\n",
       "      <td>7.3</td>\n",
       "      <td>7.2</td>\n",
       "      <td>1378.0</td>\n",
       "    </tr>\n",
       "    <tr>\n",
       "      <th>9</th>\n",
       "      <td>12.6</td>\n",
       "      <td>8.5</td>\n",
       "      <td>9.0</td>\n",
       "      <td>8.8</td>\n",
       "      <td>8.7</td>\n",
       "      <td>8.7</td>\n",
       "      <td>8.5</td>\n",
       "      <td>8.4</td>\n",
       "      <td>8.3</td>\n",
       "      <td>8.3</td>\n",
       "      <td>8.2</td>\n",
       "      <td>8.3</td>\n",
       "      <td>8.1</td>\n",
       "      <td>8.1</td>\n",
       "      <td>1379.0</td>\n",
       "    </tr>\n",
       "    <tr>\n",
       "      <th>10</th>\n",
       "      <td>11.4</td>\n",
       "      <td>9.4</td>\n",
       "      <td>10.0</td>\n",
       "      <td>9.8</td>\n",
       "      <td>9.7</td>\n",
       "      <td>9.6</td>\n",
       "      <td>9.4</td>\n",
       "      <td>9.4</td>\n",
       "      <td>9.3</td>\n",
       "      <td>9.3</td>\n",
       "      <td>9.2</td>\n",
       "      <td>9.2</td>\n",
       "      <td>9.1</td>\n",
       "      <td>9.1</td>\n",
       "      <td>1380.0</td>\n",
       "    </tr>\n",
       "    <tr>\n",
       "      <th>11</th>\n",
       "      <td>15.8</td>\n",
       "      <td>10.9</td>\n",
       "      <td>11.8</td>\n",
       "      <td>11.6</td>\n",
       "      <td>11.4</td>\n",
       "      <td>11.2</td>\n",
       "      <td>11.0</td>\n",
       "      <td>10.8</td>\n",
       "      <td>10.8</td>\n",
       "      <td>10.6</td>\n",
       "      <td>10.6</td>\n",
       "      <td>10.6</td>\n",
       "      <td>10.4</td>\n",
       "      <td>10.2</td>\n",
       "      <td>1381.0</td>\n",
       "    </tr>\n",
       "    <tr>\n",
       "      <th>12</th>\n",
       "      <td>15.6</td>\n",
       "      <td>12.6</td>\n",
       "      <td>13.4</td>\n",
       "      <td>13.2</td>\n",
       "      <td>13.1</td>\n",
       "      <td>12.9</td>\n",
       "      <td>12.7</td>\n",
       "      <td>12.5</td>\n",
       "      <td>12.4</td>\n",
       "      <td>12.4</td>\n",
       "      <td>12.4</td>\n",
       "      <td>12.3</td>\n",
       "      <td>12.1</td>\n",
       "      <td>12.0</td>\n",
       "      <td>1382.0</td>\n",
       "    </tr>\n",
       "    <tr>\n",
       "      <th>13</th>\n",
       "      <td>15.2</td>\n",
       "      <td>14.5</td>\n",
       "      <td>15.5</td>\n",
       "      <td>15.2</td>\n",
       "      <td>15.0</td>\n",
       "      <td>14.8</td>\n",
       "      <td>14.7</td>\n",
       "      <td>14.6</td>\n",
       "      <td>14.4</td>\n",
       "      <td>14.4</td>\n",
       "      <td>14.3</td>\n",
       "      <td>14.1</td>\n",
       "      <td>13.9</td>\n",
       "      <td>13.7</td>\n",
       "      <td>1383.0</td>\n",
       "    </tr>\n",
       "    <tr>\n",
       "      <th>14</th>\n",
       "      <td>10.4</td>\n",
       "      <td>16.1</td>\n",
       "      <td>16.7</td>\n",
       "      <td>16.5</td>\n",
       "      <td>16.3</td>\n",
       "      <td>16.2</td>\n",
       "      <td>16.0</td>\n",
       "      <td>15.9</td>\n",
       "      <td>15.8</td>\n",
       "      <td>15.7</td>\n",
       "      <td>15.7</td>\n",
       "      <td>15.8</td>\n",
       "      <td>15.9</td>\n",
       "      <td>16.0</td>\n",
       "      <td>1384.0</td>\n",
       "    </tr>\n",
       "    <tr>\n",
       "      <th>15</th>\n",
       "      <td>11.9</td>\n",
       "      <td>18.0</td>\n",
       "      <td>19.4</td>\n",
       "      <td>19.2</td>\n",
       "      <td>18.9</td>\n",
       "      <td>18.5</td>\n",
       "      <td>18.1</td>\n",
       "      <td>17.9</td>\n",
       "      <td>17.7</td>\n",
       "      <td>17.4</td>\n",
       "      <td>17.3</td>\n",
       "      <td>17.3</td>\n",
       "      <td>17.0</td>\n",
       "      <td>16.9</td>\n",
       "      <td>1385.0</td>\n",
       "    </tr>\n",
       "    <tr>\n",
       "      <th>16</th>\n",
       "      <td>18.4</td>\n",
       "      <td>21.3</td>\n",
       "      <td>23.7</td>\n",
       "      <td>23.0</td>\n",
       "      <td>22.5</td>\n",
       "      <td>22.2</td>\n",
       "      <td>21.6</td>\n",
       "      <td>21.2</td>\n",
       "      <td>20.9</td>\n",
       "      <td>20.4</td>\n",
       "      <td>20.2</td>\n",
       "      <td>20.1</td>\n",
       "      <td>19.8</td>\n",
       "      <td>19.7</td>\n",
       "      <td>1386.0</td>\n",
       "    </tr>\n",
       "    <tr>\n",
       "      <th>17</th>\n",
       "      <td>25.4</td>\n",
       "      <td>26.7</td>\n",
       "      <td>27.9</td>\n",
       "      <td>27.8</td>\n",
       "      <td>27.9</td>\n",
       "      <td>28.0</td>\n",
       "      <td>27.7</td>\n",
       "      <td>27.5</td>\n",
       "      <td>27.0</td>\n",
       "      <td>26.0</td>\n",
       "      <td>25.5</td>\n",
       "      <td>25.4</td>\n",
       "      <td>24.8</td>\n",
       "      <td>24.4</td>\n",
       "      <td>1387.0</td>\n",
       "    </tr>\n",
       "    <tr>\n",
       "      <th>18</th>\n",
       "      <td>10.8</td>\n",
       "      <td>29.5</td>\n",
       "      <td>30.8</td>\n",
       "      <td>30.3</td>\n",
       "      <td>30.1</td>\n",
       "      <td>30.1</td>\n",
       "      <td>29.7</td>\n",
       "      <td>29.6</td>\n",
       "      <td>29.5</td>\n",
       "      <td>29.4</td>\n",
       "      <td>29.1</td>\n",
       "      <td>29.1</td>\n",
       "      <td>28.6</td>\n",
       "      <td>28.2</td>\n",
       "      <td>1388.0</td>\n",
       "    </tr>\n",
       "    <tr>\n",
       "      <th>19</th>\n",
       "      <td>12.4</td>\n",
       "      <td>33.2</td>\n",
       "      <td>36.9</td>\n",
       "      <td>35.7</td>\n",
       "      <td>34.8</td>\n",
       "      <td>33.9</td>\n",
       "      <td>33.4</td>\n",
       "      <td>33.1</td>\n",
       "      <td>32.5</td>\n",
       "      <td>32.2</td>\n",
       "      <td>31.8</td>\n",
       "      <td>31.5</td>\n",
       "      <td>31.2</td>\n",
       "      <td>31.1</td>\n",
       "      <td>1389.0</td>\n",
       "    </tr>\n",
       "    <tr>\n",
       "      <th>20</th>\n",
       "      <td>21.5</td>\n",
       "      <td>40.3</td>\n",
       "      <td>44.5</td>\n",
       "      <td>43.1</td>\n",
       "      <td>42.0</td>\n",
       "      <td>41.4</td>\n",
       "      <td>40.8</td>\n",
       "      <td>40.2</td>\n",
       "      <td>39.8</td>\n",
       "      <td>39.1</td>\n",
       "      <td>38.7</td>\n",
       "      <td>38.6</td>\n",
       "      <td>38.1</td>\n",
       "      <td>37.5</td>\n",
       "      <td>1390.0</td>\n",
       "    </tr>\n",
       "    <tr>\n",
       "      <th>21</th>\n",
       "      <td>30.5</td>\n",
       "      <td>52.6</td>\n",
       "      <td>62.9</td>\n",
       "      <td>60.5</td>\n",
       "      <td>57.5</td>\n",
       "      <td>56.4</td>\n",
       "      <td>55.2</td>\n",
       "      <td>52.7</td>\n",
       "      <td>50.3</td>\n",
       "      <td>48.9</td>\n",
       "      <td>48.1</td>\n",
       "      <td>47.1</td>\n",
       "      <td>46.6</td>\n",
       "      <td>45.5</td>\n",
       "      <td>1391.0</td>\n",
       "    </tr>\n",
       "    <tr>\n",
       "      <th>22</th>\n",
       "      <td>34.7</td>\n",
       "      <td>70.9</td>\n",
       "      <td>75.2</td>\n",
       "      <td>74.3</td>\n",
       "      <td>74.0</td>\n",
       "      <td>73.1</td>\n",
       "      <td>72.8</td>\n",
       "      <td>72.1</td>\n",
       "      <td>71.2</td>\n",
       "      <td>70.0</td>\n",
       "      <td>69.2</td>\n",
       "      <td>68.3</td>\n",
       "      <td>66.0</td>\n",
       "      <td>64.7</td>\n",
       "      <td>1392.0</td>\n",
       "    </tr>\n",
       "    <tr>\n",
       "      <th>23</th>\n",
       "      <td>15.6</td>\n",
       "      <td>81.9</td>\n",
       "      <td>87.4</td>\n",
       "      <td>86.3</td>\n",
       "      <td>85.6</td>\n",
       "      <td>85.4</td>\n",
       "      <td>83.8</td>\n",
       "      <td>82.6</td>\n",
       "      <td>81.4</td>\n",
       "      <td>80.4</td>\n",
       "      <td>79.3</td>\n",
       "      <td>78.2</td>\n",
       "      <td>76.9</td>\n",
       "      <td>76.0</td>\n",
       "      <td>1393.0</td>\n",
       "    </tr>\n",
       "    <tr>\n",
       "      <th>24</th>\n",
       "      <td>11.9</td>\n",
       "      <td>91.7</td>\n",
       "      <td>94.7</td>\n",
       "      <td>94.0</td>\n",
       "      <td>93.8</td>\n",
       "      <td>93.4</td>\n",
       "      <td>92.2</td>\n",
       "      <td>91.5</td>\n",
       "      <td>91.0</td>\n",
       "      <td>90.5</td>\n",
       "      <td>90.6</td>\n",
       "      <td>90.9</td>\n",
       "      <td>89.4</td>\n",
       "      <td>88.5</td>\n",
       "      <td>1394.0</td>\n",
       "    </tr>\n",
       "    <tr>\n",
       "      <th>25</th>\n",
       "      <td>9.0</td>\n",
       "      <td>100.0</td>\n",
       "      <td>105.9</td>\n",
       "      <td>103.7</td>\n",
       "      <td>102.5</td>\n",
       "      <td>101.7</td>\n",
       "      <td>100.2</td>\n",
       "      <td>100.0</td>\n",
       "      <td>99.6</td>\n",
       "      <td>99.2</td>\n",
       "      <td>98.3</td>\n",
       "      <td>97.7</td>\n",
       "      <td>96.3</td>\n",
       "      <td>95.0</td>\n",
       "      <td>1395.0</td>\n",
       "    </tr>\n",
       "    <tr>\n",
       "      <th>26</th>\n",
       "      <td>9.6</td>\n",
       "      <td>109.6</td>\n",
       "      <td>114.7</td>\n",
       "      <td>113.4</td>\n",
       "      <td>112.4</td>\n",
       "      <td>111.9</td>\n",
       "      <td>109.8</td>\n",
       "      <td>108.4</td>\n",
       "      <td>108.0</td>\n",
       "      <td>107.7</td>\n",
       "      <td>107.5</td>\n",
       "      <td>107.8</td>\n",
       "      <td>107.1</td>\n",
       "      <td>107.1</td>\n",
       "      <td>1396.0</td>\n",
       "    </tr>\n",
       "    <tr>\n",
       "      <th>27</th>\n",
       "      <td>0.0</td>\n",
       "      <td>0.0</td>\n",
       "      <td>0.0</td>\n",
       "      <td>0.0</td>\n",
       "      <td>0.0</td>\n",
       "      <td>0.0</td>\n",
       "      <td>153.6</td>\n",
       "      <td>148.4</td>\n",
       "      <td>141.9</td>\n",
       "      <td>133.8</td>\n",
       "      <td>126.8</td>\n",
       "      <td>122.6</td>\n",
       "      <td>117.5</td>\n",
       "      <td>115.6</td>\n",
       "      <td>1397.0</td>\n",
       "    </tr>\n",
       "  </tbody>\n",
       "</table>\n",
       "</div>"
      ],
      "text/plain": [
       "    inflation  avgYear  esfand  bahman    dey   azar   aban   mehr  shahrivar  \\\n",
       "0        20.7      1.2     1.4     1.3    1.2    1.2    1.2    1.2        1.2   \n",
       "1        24.4      1.5     1.6     1.6    1.5    1.5    1.5    1.5        1.5   \n",
       "2        22.9      1.8     2.1     2.0    1.9    1.9    1.8    1.8        1.8   \n",
       "3        35.2      2.5     3.0     2.8    2.6    2.5    2.5    2.5        2.4   \n",
       "4        49.4      3.7     4.1     4.0    4.0    3.8    3.7    3.6        3.5   \n",
       "5        23.2      4.5     4.8     4.8    4.7    4.6    4.6    4.5        4.4   \n",
       "6        17.3      5.3     5.7     5.6    5.5    5.4    5.3    5.2        5.2   \n",
       "7        18.1      6.3     6.8     6.7    6.5    6.5    6.3    6.2        6.1   \n",
       "8        20.1      7.5     8.1     7.9    7.8    7.7    7.5    7.5        7.4   \n",
       "9        12.6      8.5     9.0     8.8    8.7    8.7    8.5    8.4        8.3   \n",
       "10       11.4      9.4    10.0     9.8    9.7    9.6    9.4    9.4        9.3   \n",
       "11       15.8     10.9    11.8    11.6   11.4   11.2   11.0   10.8       10.8   \n",
       "12       15.6     12.6    13.4    13.2   13.1   12.9   12.7   12.5       12.4   \n",
       "13       15.2     14.5    15.5    15.2   15.0   14.8   14.7   14.6       14.4   \n",
       "14       10.4     16.1    16.7    16.5   16.3   16.2   16.0   15.9       15.8   \n",
       "15       11.9     18.0    19.4    19.2   18.9   18.5   18.1   17.9       17.7   \n",
       "16       18.4     21.3    23.7    23.0   22.5   22.2   21.6   21.2       20.9   \n",
       "17       25.4     26.7    27.9    27.8   27.9   28.0   27.7   27.5       27.0   \n",
       "18       10.8     29.5    30.8    30.3   30.1   30.1   29.7   29.6       29.5   \n",
       "19       12.4     33.2    36.9    35.7   34.8   33.9   33.4   33.1       32.5   \n",
       "20       21.5     40.3    44.5    43.1   42.0   41.4   40.8   40.2       39.8   \n",
       "21       30.5     52.6    62.9    60.5   57.5   56.4   55.2   52.7       50.3   \n",
       "22       34.7     70.9    75.2    74.3   74.0   73.1   72.8   72.1       71.2   \n",
       "23       15.6     81.9    87.4    86.3   85.6   85.4   83.8   82.6       81.4   \n",
       "24       11.9     91.7    94.7    94.0   93.8   93.4   92.2   91.5       91.0   \n",
       "25        9.0    100.0   105.9   103.7  102.5  101.7  100.2  100.0       99.6   \n",
       "26        9.6    109.6   114.7   113.4  112.4  111.9  109.8  108.4      108.0   \n",
       "27        0.0      0.0     0.0     0.0    0.0    0.0  153.6  148.4      141.9   \n",
       "\n",
       "    mordad    tir  khordad  ordibehesht  farvardin    year  \n",
       "0      1.2    1.1      1.1          1.1        1.1  1370.0  \n",
       "1      1.5    1.4      1.4          1.4        1.4  1371.0  \n",
       "2      1.7    1.7      1.7          1.7        1.7  1372.0  \n",
       "3      2.3    2.3      2.2          2.2        2.1  1373.0  \n",
       "4      3.5    3.5      3.5          3.5        3.2  1374.0  \n",
       "5      4.4    4.4      4.4          4.4        4.4  1375.0  \n",
       "6      5.2    5.1      5.1          5.1        5.0  1376.0  \n",
       "7      6.0    6.0      6.0          6.0        6.0  1377.0  \n",
       "8      7.3    7.3      7.3          7.3        7.2  1378.0  \n",
       "9      8.3    8.2      8.3          8.1        8.1  1379.0  \n",
       "10     9.3    9.2      9.2          9.1        9.1  1380.0  \n",
       "11    10.6   10.6     10.6         10.4       10.2  1381.0  \n",
       "12    12.4   12.4     12.3         12.1       12.0  1382.0  \n",
       "13    14.4   14.3     14.1         13.9       13.7  1383.0  \n",
       "14    15.7   15.7     15.8         15.9       16.0  1384.0  \n",
       "15    17.4   17.3     17.3         17.0       16.9  1385.0  \n",
       "16    20.4   20.2     20.1         19.8       19.7  1386.0  \n",
       "17    26.0   25.5     25.4         24.8       24.4  1387.0  \n",
       "18    29.4   29.1     29.1         28.6       28.2  1388.0  \n",
       "19    32.2   31.8     31.5         31.2       31.1  1389.0  \n",
       "20    39.1   38.7     38.6         38.1       37.5  1390.0  \n",
       "21    48.9   48.1     47.1         46.6       45.5  1391.0  \n",
       "22    70.0   69.2     68.3         66.0       64.7  1392.0  \n",
       "23    80.4   79.3     78.2         76.9       76.0  1393.0  \n",
       "24    90.5   90.6     90.9         89.4       88.5  1394.0  \n",
       "25    99.2   98.3     97.7         96.3       95.0  1395.0  \n",
       "26   107.7  107.5    107.8        107.1      107.1  1396.0  \n",
       "27   133.8  126.8    122.6        117.5      115.6  1397.0  "
      ]
     },
     "metadata": {},
     "output_type": "display_data"
    }
   ],
   "source": [
    "\n",
    "#%%Pre processing\n",
    "for i in range(12,30):\n",
    "    row = list(df.loc[i,:])\n",
    "    row.pop()\n",
    "    row.insert(0,np.nan)\n",
    "    df.loc[i] =  row\n",
    "df.drop('Unnamed: 0', inplace=True, axis = 1)\n",
    "df.iloc[:,-1] = df.iloc[:,-1].astype(int)\n",
    "df.fillna('-')\n",
    "for i in range(0,df.shape[1]):\n",
    "    df.iloc[:,i] = df.iloc[:,i].astype(str)\n",
    "    df.iloc[:,i] = df.iloc[:,i].apply(lambda x: x.replace('/' , '.'))\n",
    "    df.iloc[:,i] = df.iloc[:,i].astype(float)\n",
    "# %%\n",
    "df.columns=['inflation','avgYear','esfand','bahman','dey',\n",
    "            'azar','aban','mehr', 'shahrivar','mordad','tir',\n",
    "            'khordad', 'ordibehesht','farvardin','year']\n",
    "# %%\n",
    "df.reset_index(drop=True, inplace=True)\n",
    "display(df.fillna(0))\n",
    "#%%\n"
   ]
  },
  {
   "cell_type": "code",
   "execution_count": 4,
   "metadata": {},
   "outputs": [
    {
     "data": {
      "application/vnd.plotly.v1+json": {
       "config": {
        "plotlyServerURL": "https://plot.ly"
       },
       "data": [
        {
         "hovertemplate": "year=%{x}<br>inflation=%{y}<br>avgYear=%{marker.size}<extra></extra>",
         "legendgroup": "",
         "marker": {
          "color": "#636efa",
          "size": [
           1.2,
           1.5,
           1.8,
           2.5,
           3.7,
           4.5,
           5.3,
           6.3,
           7.5,
           8.5,
           9.4,
           10.9,
           12.6,
           14.5,
           16.1,
           18,
           21.3,
           26.7,
           29.5,
           33.2,
           40.3,
           52.6,
           70.9,
           81.9,
           91.7,
           100,
           109.6
          ],
          "sizemode": "area",
          "sizeref": 0.27399999999999997,
          "symbol": "circle"
         },
         "mode": "markers",
         "name": "",
         "orientation": "v",
         "showlegend": false,
         "type": "scatter",
         "x": [
          1370,
          1371,
          1372,
          1373,
          1374,
          1375,
          1376,
          1377,
          1378,
          1379,
          1380,
          1381,
          1382,
          1383,
          1384,
          1385,
          1386,
          1387,
          1388,
          1389,
          1390,
          1391,
          1392,
          1393,
          1394,
          1395,
          1396
         ],
         "xaxis": "x",
         "y": [
          20.7,
          24.4,
          22.9,
          35.2,
          49.4,
          23.2,
          17.3,
          18.1,
          20.1,
          12.6,
          11.4,
          15.8,
          15.6,
          15.2,
          10.4,
          11.9,
          18.4,
          25.4,
          10.8,
          12.4,
          21.5,
          30.5,
          34.7,
          15.6,
          11.9,
          9,
          9.6
         ],
         "yaxis": "y"
        },
        {
         "hovertemplate": "<b>OLS trendline</b><br>inflation = -0.434737 * year + 620.649<br>R<sup>2</sup>=0.134675<br><br>year=%{x}<br>inflation=%{y} <b>(trend)</b><extra></extra>",
         "legendgroup": "",
         "marker": {
          "color": "#636efa",
          "symbol": "circle"
         },
         "mode": "lines",
         "name": "",
         "showlegend": false,
         "type": "scatter",
         "x": [
          1370,
          1371,
          1372,
          1373,
          1374,
          1375,
          1376,
          1377,
          1378,
          1379,
          1380,
          1381,
          1382,
          1383,
          1384,
          1385,
          1386,
          1387,
          1388,
          1389,
          1390,
          1391,
          1392,
          1393,
          1394,
          1395,
          1396
         ],
         "xaxis": "x",
         "y": [
          25.058994708994646,
          24.62425722425712,
          24.18951973951971,
          23.754782254782185,
          23.320044770044774,
          22.88530728530725,
          22.450569800569724,
          22.015832315832313,
          21.581094831094788,
          21.146357346357263,
          20.71161986161985,
          20.276882376882327,
          19.842144892144802,
          19.40740740740739,
          18.972669922669866,
          18.537932437932454,
          18.10319495319493,
          17.668457468457405,
          17.233719983719993,
          16.79898249898247,
          16.364245014244943,
          15.929507529507532,
          15.494770044770007,
          15.060032560032482,
          14.625295075295071,
          14.190557590557546,
          13.755820105820135
         ],
         "yaxis": "y"
        }
       ],
       "layout": {
        "legend": {
         "itemsizing": "constant",
         "tracegroupgap": 0
        },
        "margin": {
         "t": 60
        },
        "template": {
         "data": {
          "bar": [
           {
            "error_x": {
             "color": "#2a3f5f"
            },
            "error_y": {
             "color": "#2a3f5f"
            },
            "marker": {
             "line": {
              "color": "#E5ECF6",
              "width": 0.5
             },
             "pattern": {
              "fillmode": "overlay",
              "size": 10,
              "solidity": 0.2
             }
            },
            "type": "bar"
           }
          ],
          "barpolar": [
           {
            "marker": {
             "line": {
              "color": "#E5ECF6",
              "width": 0.5
             },
             "pattern": {
              "fillmode": "overlay",
              "size": 10,
              "solidity": 0.2
             }
            },
            "type": "barpolar"
           }
          ],
          "carpet": [
           {
            "aaxis": {
             "endlinecolor": "#2a3f5f",
             "gridcolor": "white",
             "linecolor": "white",
             "minorgridcolor": "white",
             "startlinecolor": "#2a3f5f"
            },
            "baxis": {
             "endlinecolor": "#2a3f5f",
             "gridcolor": "white",
             "linecolor": "white",
             "minorgridcolor": "white",
             "startlinecolor": "#2a3f5f"
            },
            "type": "carpet"
           }
          ],
          "choropleth": [
           {
            "colorbar": {
             "outlinewidth": 0,
             "ticks": ""
            },
            "type": "choropleth"
           }
          ],
          "contour": [
           {
            "colorbar": {
             "outlinewidth": 0,
             "ticks": ""
            },
            "colorscale": [
             [
              0,
              "#0d0887"
             ],
             [
              0.1111111111111111,
              "#46039f"
             ],
             [
              0.2222222222222222,
              "#7201a8"
             ],
             [
              0.3333333333333333,
              "#9c179e"
             ],
             [
              0.4444444444444444,
              "#bd3786"
             ],
             [
              0.5555555555555556,
              "#d8576b"
             ],
             [
              0.6666666666666666,
              "#ed7953"
             ],
             [
              0.7777777777777778,
              "#fb9f3a"
             ],
             [
              0.8888888888888888,
              "#fdca26"
             ],
             [
              1,
              "#f0f921"
             ]
            ],
            "type": "contour"
           }
          ],
          "contourcarpet": [
           {
            "colorbar": {
             "outlinewidth": 0,
             "ticks": ""
            },
            "type": "contourcarpet"
           }
          ],
          "heatmap": [
           {
            "colorbar": {
             "outlinewidth": 0,
             "ticks": ""
            },
            "colorscale": [
             [
              0,
              "#0d0887"
             ],
             [
              0.1111111111111111,
              "#46039f"
             ],
             [
              0.2222222222222222,
              "#7201a8"
             ],
             [
              0.3333333333333333,
              "#9c179e"
             ],
             [
              0.4444444444444444,
              "#bd3786"
             ],
             [
              0.5555555555555556,
              "#d8576b"
             ],
             [
              0.6666666666666666,
              "#ed7953"
             ],
             [
              0.7777777777777778,
              "#fb9f3a"
             ],
             [
              0.8888888888888888,
              "#fdca26"
             ],
             [
              1,
              "#f0f921"
             ]
            ],
            "type": "heatmap"
           }
          ],
          "heatmapgl": [
           {
            "colorbar": {
             "outlinewidth": 0,
             "ticks": ""
            },
            "colorscale": [
             [
              0,
              "#0d0887"
             ],
             [
              0.1111111111111111,
              "#46039f"
             ],
             [
              0.2222222222222222,
              "#7201a8"
             ],
             [
              0.3333333333333333,
              "#9c179e"
             ],
             [
              0.4444444444444444,
              "#bd3786"
             ],
             [
              0.5555555555555556,
              "#d8576b"
             ],
             [
              0.6666666666666666,
              "#ed7953"
             ],
             [
              0.7777777777777778,
              "#fb9f3a"
             ],
             [
              0.8888888888888888,
              "#fdca26"
             ],
             [
              1,
              "#f0f921"
             ]
            ],
            "type": "heatmapgl"
           }
          ],
          "histogram": [
           {
            "marker": {
             "pattern": {
              "fillmode": "overlay",
              "size": 10,
              "solidity": 0.2
             }
            },
            "type": "histogram"
           }
          ],
          "histogram2d": [
           {
            "colorbar": {
             "outlinewidth": 0,
             "ticks": ""
            },
            "colorscale": [
             [
              0,
              "#0d0887"
             ],
             [
              0.1111111111111111,
              "#46039f"
             ],
             [
              0.2222222222222222,
              "#7201a8"
             ],
             [
              0.3333333333333333,
              "#9c179e"
             ],
             [
              0.4444444444444444,
              "#bd3786"
             ],
             [
              0.5555555555555556,
              "#d8576b"
             ],
             [
              0.6666666666666666,
              "#ed7953"
             ],
             [
              0.7777777777777778,
              "#fb9f3a"
             ],
             [
              0.8888888888888888,
              "#fdca26"
             ],
             [
              1,
              "#f0f921"
             ]
            ],
            "type": "histogram2d"
           }
          ],
          "histogram2dcontour": [
           {
            "colorbar": {
             "outlinewidth": 0,
             "ticks": ""
            },
            "colorscale": [
             [
              0,
              "#0d0887"
             ],
             [
              0.1111111111111111,
              "#46039f"
             ],
             [
              0.2222222222222222,
              "#7201a8"
             ],
             [
              0.3333333333333333,
              "#9c179e"
             ],
             [
              0.4444444444444444,
              "#bd3786"
             ],
             [
              0.5555555555555556,
              "#d8576b"
             ],
             [
              0.6666666666666666,
              "#ed7953"
             ],
             [
              0.7777777777777778,
              "#fb9f3a"
             ],
             [
              0.8888888888888888,
              "#fdca26"
             ],
             [
              1,
              "#f0f921"
             ]
            ],
            "type": "histogram2dcontour"
           }
          ],
          "mesh3d": [
           {
            "colorbar": {
             "outlinewidth": 0,
             "ticks": ""
            },
            "type": "mesh3d"
           }
          ],
          "parcoords": [
           {
            "line": {
             "colorbar": {
              "outlinewidth": 0,
              "ticks": ""
             }
            },
            "type": "parcoords"
           }
          ],
          "pie": [
           {
            "automargin": true,
            "type": "pie"
           }
          ],
          "scatter": [
           {
            "fillpattern": {
             "fillmode": "overlay",
             "size": 10,
             "solidity": 0.2
            },
            "type": "scatter"
           }
          ],
          "scatter3d": [
           {
            "line": {
             "colorbar": {
              "outlinewidth": 0,
              "ticks": ""
             }
            },
            "marker": {
             "colorbar": {
              "outlinewidth": 0,
              "ticks": ""
             }
            },
            "type": "scatter3d"
           }
          ],
          "scattercarpet": [
           {
            "marker": {
             "colorbar": {
              "outlinewidth": 0,
              "ticks": ""
             }
            },
            "type": "scattercarpet"
           }
          ],
          "scattergeo": [
           {
            "marker": {
             "colorbar": {
              "outlinewidth": 0,
              "ticks": ""
             }
            },
            "type": "scattergeo"
           }
          ],
          "scattergl": [
           {
            "marker": {
             "colorbar": {
              "outlinewidth": 0,
              "ticks": ""
             }
            },
            "type": "scattergl"
           }
          ],
          "scattermapbox": [
           {
            "marker": {
             "colorbar": {
              "outlinewidth": 0,
              "ticks": ""
             }
            },
            "type": "scattermapbox"
           }
          ],
          "scatterpolar": [
           {
            "marker": {
             "colorbar": {
              "outlinewidth": 0,
              "ticks": ""
             }
            },
            "type": "scatterpolar"
           }
          ],
          "scatterpolargl": [
           {
            "marker": {
             "colorbar": {
              "outlinewidth": 0,
              "ticks": ""
             }
            },
            "type": "scatterpolargl"
           }
          ],
          "scatterternary": [
           {
            "marker": {
             "colorbar": {
              "outlinewidth": 0,
              "ticks": ""
             }
            },
            "type": "scatterternary"
           }
          ],
          "surface": [
           {
            "colorbar": {
             "outlinewidth": 0,
             "ticks": ""
            },
            "colorscale": [
             [
              0,
              "#0d0887"
             ],
             [
              0.1111111111111111,
              "#46039f"
             ],
             [
              0.2222222222222222,
              "#7201a8"
             ],
             [
              0.3333333333333333,
              "#9c179e"
             ],
             [
              0.4444444444444444,
              "#bd3786"
             ],
             [
              0.5555555555555556,
              "#d8576b"
             ],
             [
              0.6666666666666666,
              "#ed7953"
             ],
             [
              0.7777777777777778,
              "#fb9f3a"
             ],
             [
              0.8888888888888888,
              "#fdca26"
             ],
             [
              1,
              "#f0f921"
             ]
            ],
            "type": "surface"
           }
          ],
          "table": [
           {
            "cells": {
             "fill": {
              "color": "#EBF0F8"
             },
             "line": {
              "color": "white"
             }
            },
            "header": {
             "fill": {
              "color": "#C8D4E3"
             },
             "line": {
              "color": "white"
             }
            },
            "type": "table"
           }
          ]
         },
         "layout": {
          "annotationdefaults": {
           "arrowcolor": "#2a3f5f",
           "arrowhead": 0,
           "arrowwidth": 1
          },
          "autotypenumbers": "strict",
          "coloraxis": {
           "colorbar": {
            "outlinewidth": 0,
            "ticks": ""
           }
          },
          "colorscale": {
           "diverging": [
            [
             0,
             "#8e0152"
            ],
            [
             0.1,
             "#c51b7d"
            ],
            [
             0.2,
             "#de77ae"
            ],
            [
             0.3,
             "#f1b6da"
            ],
            [
             0.4,
             "#fde0ef"
            ],
            [
             0.5,
             "#f7f7f7"
            ],
            [
             0.6,
             "#e6f5d0"
            ],
            [
             0.7,
             "#b8e186"
            ],
            [
             0.8,
             "#7fbc41"
            ],
            [
             0.9,
             "#4d9221"
            ],
            [
             1,
             "#276419"
            ]
           ],
           "sequential": [
            [
             0,
             "#0d0887"
            ],
            [
             0.1111111111111111,
             "#46039f"
            ],
            [
             0.2222222222222222,
             "#7201a8"
            ],
            [
             0.3333333333333333,
             "#9c179e"
            ],
            [
             0.4444444444444444,
             "#bd3786"
            ],
            [
             0.5555555555555556,
             "#d8576b"
            ],
            [
             0.6666666666666666,
             "#ed7953"
            ],
            [
             0.7777777777777778,
             "#fb9f3a"
            ],
            [
             0.8888888888888888,
             "#fdca26"
            ],
            [
             1,
             "#f0f921"
            ]
           ],
           "sequentialminus": [
            [
             0,
             "#0d0887"
            ],
            [
             0.1111111111111111,
             "#46039f"
            ],
            [
             0.2222222222222222,
             "#7201a8"
            ],
            [
             0.3333333333333333,
             "#9c179e"
            ],
            [
             0.4444444444444444,
             "#bd3786"
            ],
            [
             0.5555555555555556,
             "#d8576b"
            ],
            [
             0.6666666666666666,
             "#ed7953"
            ],
            [
             0.7777777777777778,
             "#fb9f3a"
            ],
            [
             0.8888888888888888,
             "#fdca26"
            ],
            [
             1,
             "#f0f921"
            ]
           ]
          },
          "colorway": [
           "#636efa",
           "#EF553B",
           "#00cc96",
           "#ab63fa",
           "#FFA15A",
           "#19d3f3",
           "#FF6692",
           "#B6E880",
           "#FF97FF",
           "#FECB52"
          ],
          "font": {
           "color": "#2a3f5f"
          },
          "geo": {
           "bgcolor": "white",
           "lakecolor": "white",
           "landcolor": "#E5ECF6",
           "showlakes": true,
           "showland": true,
           "subunitcolor": "white"
          },
          "hoverlabel": {
           "align": "left"
          },
          "hovermode": "closest",
          "mapbox": {
           "style": "light"
          },
          "paper_bgcolor": "white",
          "plot_bgcolor": "#E5ECF6",
          "polar": {
           "angularaxis": {
            "gridcolor": "white",
            "linecolor": "white",
            "ticks": ""
           },
           "bgcolor": "#E5ECF6",
           "radialaxis": {
            "gridcolor": "white",
            "linecolor": "white",
            "ticks": ""
           }
          },
          "scene": {
           "xaxis": {
            "backgroundcolor": "#E5ECF6",
            "gridcolor": "white",
            "gridwidth": 2,
            "linecolor": "white",
            "showbackground": true,
            "ticks": "",
            "zerolinecolor": "white"
           },
           "yaxis": {
            "backgroundcolor": "#E5ECF6",
            "gridcolor": "white",
            "gridwidth": 2,
            "linecolor": "white",
            "showbackground": true,
            "ticks": "",
            "zerolinecolor": "white"
           },
           "zaxis": {
            "backgroundcolor": "#E5ECF6",
            "gridcolor": "white",
            "gridwidth": 2,
            "linecolor": "white",
            "showbackground": true,
            "ticks": "",
            "zerolinecolor": "white"
           }
          },
          "shapedefaults": {
           "line": {
            "color": "#2a3f5f"
           }
          },
          "ternary": {
           "aaxis": {
            "gridcolor": "white",
            "linecolor": "white",
            "ticks": ""
           },
           "baxis": {
            "gridcolor": "white",
            "linecolor": "white",
            "ticks": ""
           },
           "bgcolor": "#E5ECF6",
           "caxis": {
            "gridcolor": "white",
            "linecolor": "white",
            "ticks": ""
           }
          },
          "title": {
           "x": 0.05
          },
          "xaxis": {
           "automargin": true,
           "gridcolor": "white",
           "linecolor": "white",
           "ticks": "",
           "title": {
            "standoff": 15
           },
           "zerolinecolor": "white",
           "zerolinewidth": 2
          },
          "yaxis": {
           "automargin": true,
           "gridcolor": "white",
           "linecolor": "white",
           "ticks": "",
           "title": {
            "standoff": 15
           },
           "zerolinecolor": "white",
           "zerolinewidth": 2
          }
         }
        },
        "xaxis": {
         "anchor": "y",
         "domain": [
          0,
          1
         ],
         "title": {
          "text": "year"
         }
        },
        "yaxis": {
         "anchor": "x",
         "domain": [
          0,
          1
         ],
         "title": {
          "text": "inflation"
         }
        }
       }
      }
     },
     "metadata": {},
     "output_type": "display_data"
    },
    {
     "data": {
      "application/vnd.plotly.v1+json": {
       "config": {
        "plotlyServerURL": "https://plot.ly"
       },
       "data": [
        {
         "alignmentgroup": "True",
         "hovertemplate": "variable=wide_variable_0<br>x=%{x}<br>value=%{y}<extra></extra>",
         "legendgroup": "wide_variable_0",
         "marker": {
          "color": "#636efa",
          "pattern": {
           "shape": ""
          }
         },
         "name": "wide_variable_0",
         "offsetgroup": "wide_variable_0",
         "orientation": "v",
         "showlegend": true,
         "textposition": "auto",
         "type": "bar",
         "x": [
          1370,
          1371,
          1372,
          1373,
          1374,
          1375,
          1376,
          1377,
          1378,
          1379,
          1380,
          1381,
          1382,
          1383,
          1384,
          1385,
          1386,
          1387,
          1388,
          1389,
          1390,
          1391,
          1392,
          1393,
          1394,
          1395,
          1396,
          1397
         ],
         "xaxis": "x",
         "y": [
          1.1,
          1.4,
          1.7,
          2.1,
          3.2,
          4.4,
          5,
          6,
          7.2,
          8.1,
          9.1,
          10.2,
          12,
          13.7,
          16,
          16.9,
          19.7,
          24.4,
          28.2,
          31.1,
          37.5,
          45.5,
          64.7,
          76,
          88.5,
          95,
          107.1,
          115.6
         ],
         "yaxis": "y"
        },
        {
         "alignmentgroup": "True",
         "hovertemplate": "variable=wide_variable_1<br>x=%{x}<br>value=%{y}<extra></extra>",
         "legendgroup": "wide_variable_1",
         "marker": {
          "color": "#EF553B",
          "pattern": {
           "shape": ""
          }
         },
         "name": "wide_variable_1",
         "offsetgroup": "wide_variable_1",
         "orientation": "v",
         "showlegend": true,
         "textposition": "auto",
         "type": "bar",
         "x": [
          1370,
          1371,
          1372,
          1373,
          1374,
          1375,
          1376,
          1377,
          1378,
          1379,
          1380,
          1381,
          1382,
          1383,
          1384,
          1385,
          1386,
          1387,
          1388,
          1389,
          1390,
          1391,
          1392,
          1393,
          1394,
          1395,
          1396,
          1397
         ],
         "xaxis": "x",
         "y": [
          1.1,
          1.4,
          1.7,
          2.2,
          3.5,
          4.4,
          5.1,
          6,
          7.3,
          8.1,
          9.1,
          10.4,
          12.1,
          13.9,
          15.9,
          17,
          19.8,
          24.8,
          28.6,
          31.2,
          38.1,
          46.6,
          66,
          76.9,
          89.4,
          96.3,
          107.1,
          117.5
         ],
         "yaxis": "y"
        },
        {
         "alignmentgroup": "True",
         "hovertemplate": "variable=wide_variable_2<br>x=%{x}<br>value=%{y}<extra></extra>",
         "legendgroup": "wide_variable_2",
         "marker": {
          "color": "#00cc96",
          "pattern": {
           "shape": ""
          }
         },
         "name": "wide_variable_2",
         "offsetgroup": "wide_variable_2",
         "orientation": "v",
         "showlegend": true,
         "textposition": "auto",
         "type": "bar",
         "x": [
          1370,
          1371,
          1372,
          1373,
          1374,
          1375,
          1376,
          1377,
          1378,
          1379,
          1380,
          1381,
          1382,
          1383,
          1384,
          1385,
          1386,
          1387,
          1388,
          1389,
          1390,
          1391,
          1392,
          1393,
          1394,
          1395,
          1396,
          1397
         ],
         "xaxis": "x",
         "y": [
          1.1,
          1.4,
          1.7,
          2.2,
          3.5,
          4.4,
          5.1,
          6,
          7.3,
          8.3,
          9.2,
          10.6,
          12.3,
          14.1,
          15.8,
          17.3,
          20.1,
          25.4,
          29.1,
          31.5,
          38.6,
          47.1,
          68.3,
          78.2,
          90.9,
          97.7,
          107.8,
          122.6
         ],
         "yaxis": "y"
        },
        {
         "alignmentgroup": "True",
         "hovertemplate": "variable=wide_variable_3<br>x=%{x}<br>value=%{y}<extra></extra>",
         "legendgroup": "wide_variable_3",
         "marker": {
          "color": "#ab63fa",
          "pattern": {
           "shape": ""
          }
         },
         "name": "wide_variable_3",
         "offsetgroup": "wide_variable_3",
         "orientation": "v",
         "showlegend": true,
         "textposition": "auto",
         "type": "bar",
         "x": [
          1370,
          1371,
          1372,
          1373,
          1374,
          1375,
          1376,
          1377,
          1378,
          1379,
          1380,
          1381,
          1382,
          1383,
          1384,
          1385,
          1386,
          1387,
          1388,
          1389,
          1390,
          1391,
          1392,
          1393,
          1394,
          1395,
          1396,
          1397
         ],
         "xaxis": "x",
         "y": [
          1.1,
          1.4,
          1.7,
          2.3,
          3.5,
          4.4,
          5.1,
          6,
          7.3,
          8.2,
          9.2,
          10.6,
          12.4,
          14.3,
          15.7,
          17.3,
          20.2,
          25.5,
          29.1,
          31.8,
          38.7,
          48.1,
          69.2,
          79.3,
          90.6,
          98.3,
          107.5,
          126.8
         ],
         "yaxis": "y"
        },
        {
         "alignmentgroup": "True",
         "hovertemplate": "variable=wide_variable_4<br>x=%{x}<br>value=%{y}<extra></extra>",
         "legendgroup": "wide_variable_4",
         "marker": {
          "color": "#FFA15A",
          "pattern": {
           "shape": ""
          }
         },
         "name": "wide_variable_4",
         "offsetgroup": "wide_variable_4",
         "orientation": "v",
         "showlegend": true,
         "textposition": "auto",
         "type": "bar",
         "x": [
          1370,
          1371,
          1372,
          1373,
          1374,
          1375,
          1376,
          1377,
          1378,
          1379,
          1380,
          1381,
          1382,
          1383,
          1384,
          1385,
          1386,
          1387,
          1388,
          1389,
          1390,
          1391,
          1392,
          1393,
          1394,
          1395,
          1396,
          1397
         ],
         "xaxis": "x",
         "y": [
          1.2,
          1.5,
          1.7,
          2.3,
          3.5,
          4.4,
          5.2,
          6,
          7.3,
          8.3,
          9.3,
          10.6,
          12.4,
          14.4,
          15.7,
          17.4,
          20.4,
          26,
          29.4,
          32.2,
          39.1,
          48.9,
          70,
          80.4,
          90.5,
          99.2,
          107.7,
          133.8
         ],
         "yaxis": "y"
        },
        {
         "alignmentgroup": "True",
         "hovertemplate": "variable=wide_variable_5<br>x=%{x}<br>value=%{y}<extra></extra>",
         "legendgroup": "wide_variable_5",
         "marker": {
          "color": "#19d3f3",
          "pattern": {
           "shape": ""
          }
         },
         "name": "wide_variable_5",
         "offsetgroup": "wide_variable_5",
         "orientation": "v",
         "showlegend": true,
         "textposition": "auto",
         "type": "bar",
         "x": [
          1370,
          1371,
          1372,
          1373,
          1374,
          1375,
          1376,
          1377,
          1378,
          1379,
          1380,
          1381,
          1382,
          1383,
          1384,
          1385,
          1386,
          1387,
          1388,
          1389,
          1390,
          1391,
          1392,
          1393,
          1394,
          1395,
          1396,
          1397
         ],
         "xaxis": "x",
         "y": [
          1.2,
          1.5,
          1.8,
          2.4,
          3.5,
          4.4,
          5.2,
          6.1,
          7.4,
          8.3,
          9.3,
          10.8,
          12.4,
          14.4,
          15.8,
          17.7,
          20.9,
          27,
          29.5,
          32.5,
          39.8,
          50.3,
          71.2,
          81.4,
          91,
          99.6,
          108,
          141.9
         ],
         "yaxis": "y"
        },
        {
         "alignmentgroup": "True",
         "hovertemplate": "variable=wide_variable_6<br>x=%{x}<br>value=%{y}<extra></extra>",
         "legendgroup": "wide_variable_6",
         "marker": {
          "color": "#FF6692",
          "pattern": {
           "shape": ""
          }
         },
         "name": "wide_variable_6",
         "offsetgroup": "wide_variable_6",
         "orientation": "v",
         "showlegend": true,
         "textposition": "auto",
         "type": "bar",
         "x": [
          1370,
          1371,
          1372,
          1373,
          1374,
          1375,
          1376,
          1377,
          1378,
          1379,
          1380,
          1381,
          1382,
          1383,
          1384,
          1385,
          1386,
          1387,
          1388,
          1389,
          1390,
          1391,
          1392,
          1393,
          1394,
          1395,
          1396,
          1397
         ],
         "xaxis": "x",
         "y": [
          1.2,
          1.5,
          1.8,
          2.5,
          3.6,
          4.5,
          5.2,
          6.2,
          7.5,
          8.4,
          9.4,
          10.8,
          12.5,
          14.6,
          15.9,
          17.9,
          21.2,
          27.5,
          29.6,
          33.1,
          40.2,
          52.7,
          72.1,
          82.6,
          91.5,
          100,
          108.4,
          148.4
         ],
         "yaxis": "y"
        },
        {
         "alignmentgroup": "True",
         "hovertemplate": "variable=wide_variable_7<br>x=%{x}<br>value=%{y}<extra></extra>",
         "legendgroup": "wide_variable_7",
         "marker": {
          "color": "#B6E880",
          "pattern": {
           "shape": ""
          }
         },
         "name": "wide_variable_7",
         "offsetgroup": "wide_variable_7",
         "orientation": "v",
         "showlegend": true,
         "textposition": "auto",
         "type": "bar",
         "x": [
          1370,
          1371,
          1372,
          1373,
          1374,
          1375,
          1376,
          1377,
          1378,
          1379,
          1380,
          1381,
          1382,
          1383,
          1384,
          1385,
          1386,
          1387,
          1388,
          1389,
          1390,
          1391,
          1392,
          1393,
          1394,
          1395,
          1396,
          1397
         ],
         "xaxis": "x",
         "y": [
          1.2,
          1.5,
          1.8,
          2.5,
          3.7,
          4.6,
          5.3,
          6.3,
          7.5,
          8.5,
          9.4,
          11,
          12.7,
          14.7,
          16,
          18.1,
          21.6,
          27.7,
          29.7,
          33.4,
          40.8,
          55.2,
          72.8,
          83.8,
          92.2,
          100.2,
          109.8,
          153.6
         ],
         "yaxis": "y"
        },
        {
         "alignmentgroup": "True",
         "hovertemplate": "variable=wide_variable_8<br>x=%{x}<br>value=%{y}<extra></extra>",
         "legendgroup": "wide_variable_8",
         "marker": {
          "color": "#FF97FF",
          "pattern": {
           "shape": ""
          }
         },
         "name": "wide_variable_8",
         "offsetgroup": "wide_variable_8",
         "orientation": "v",
         "showlegend": true,
         "textposition": "auto",
         "type": "bar",
         "x": [
          1370,
          1371,
          1372,
          1373,
          1374,
          1375,
          1376,
          1377,
          1378,
          1379,
          1380,
          1381,
          1382,
          1383,
          1384,
          1385,
          1386,
          1387,
          1388,
          1389,
          1390,
          1391,
          1392,
          1393,
          1394,
          1395,
          1396,
          1397
         ],
         "xaxis": "x",
         "y": [
          1.2,
          1.5,
          1.9,
          2.5,
          3.8,
          4.6,
          5.4,
          6.5,
          7.7,
          8.7,
          9.6,
          11.2,
          12.9,
          14.8,
          16.2,
          18.5,
          22.2,
          28,
          30.1,
          33.9,
          41.4,
          56.4,
          73.1,
          85.4,
          93.4,
          101.7,
          111.9,
          null
         ],
         "yaxis": "y"
        },
        {
         "alignmentgroup": "True",
         "hovertemplate": "variable=wide_variable_9<br>x=%{x}<br>value=%{y}<extra></extra>",
         "legendgroup": "wide_variable_9",
         "marker": {
          "color": "#FECB52",
          "pattern": {
           "shape": ""
          }
         },
         "name": "wide_variable_9",
         "offsetgroup": "wide_variable_9",
         "orientation": "v",
         "showlegend": true,
         "textposition": "auto",
         "type": "bar",
         "x": [
          1370,
          1371,
          1372,
          1373,
          1374,
          1375,
          1376,
          1377,
          1378,
          1379,
          1380,
          1381,
          1382,
          1383,
          1384,
          1385,
          1386,
          1387,
          1388,
          1389,
          1390,
          1391,
          1392,
          1393,
          1394,
          1395,
          1396,
          1397
         ],
         "xaxis": "x",
         "y": [
          1.2,
          1.5,
          1.9,
          2.6,
          4,
          4.7,
          5.5,
          6.5,
          7.8,
          8.7,
          9.7,
          11.4,
          13.1,
          15,
          16.3,
          18.9,
          22.5,
          27.9,
          30.1,
          34.8,
          42,
          57.5,
          74,
          85.6,
          93.8,
          102.5,
          112.4,
          null
         ],
         "yaxis": "y"
        },
        {
         "alignmentgroup": "True",
         "hovertemplate": "variable=wide_variable_10<br>x=%{x}<br>value=%{y}<extra></extra>",
         "legendgroup": "wide_variable_10",
         "marker": {
          "color": "#636efa",
          "pattern": {
           "shape": ""
          }
         },
         "name": "wide_variable_10",
         "offsetgroup": "wide_variable_10",
         "orientation": "v",
         "showlegend": true,
         "textposition": "auto",
         "type": "bar",
         "x": [
          1370,
          1371,
          1372,
          1373,
          1374,
          1375,
          1376,
          1377,
          1378,
          1379,
          1380,
          1381,
          1382,
          1383,
          1384,
          1385,
          1386,
          1387,
          1388,
          1389,
          1390,
          1391,
          1392,
          1393,
          1394,
          1395,
          1396,
          1397
         ],
         "xaxis": "x",
         "y": [
          1.3,
          1.6,
          2,
          2.8,
          4,
          4.8,
          5.6,
          6.7,
          7.9,
          8.8,
          9.8,
          11.6,
          13.2,
          15.2,
          16.5,
          19.2,
          23,
          27.8,
          30.3,
          35.7,
          43.1,
          60.5,
          74.3,
          86.3,
          94,
          103.7,
          113.4,
          null
         ],
         "yaxis": "y"
        },
        {
         "alignmentgroup": "True",
         "hovertemplate": "variable=wide_variable_11<br>x=%{x}<br>value=%{y}<extra></extra>",
         "legendgroup": "wide_variable_11",
         "marker": {
          "color": "#EF553B",
          "pattern": {
           "shape": ""
          }
         },
         "name": "wide_variable_11",
         "offsetgroup": "wide_variable_11",
         "orientation": "v",
         "showlegend": true,
         "textposition": "auto",
         "type": "bar",
         "x": [
          1370,
          1371,
          1372,
          1373,
          1374,
          1375,
          1376,
          1377,
          1378,
          1379,
          1380,
          1381,
          1382,
          1383,
          1384,
          1385,
          1386,
          1387,
          1388,
          1389,
          1390,
          1391,
          1392,
          1393,
          1394,
          1395,
          1396,
          1397
         ],
         "xaxis": "x",
         "y": [
          1.4,
          1.6,
          2.1,
          3,
          4.1,
          4.8,
          5.7,
          6.8,
          8.1,
          9,
          10,
          11.8,
          13.4,
          15.5,
          16.7,
          19.4,
          23.7,
          27.9,
          30.8,
          36.9,
          44.5,
          62.9,
          75.2,
          87.4,
          94.7,
          105.9,
          114.7,
          null
         ],
         "yaxis": "y"
        },
        {
         "alignmentgroup": "True",
         "hovertemplate": "variable=wide_variable_12<br>x=%{x}<br>value=%{y}<extra></extra>",
         "legendgroup": "wide_variable_12",
         "marker": {
          "color": "#00cc96",
          "pattern": {
           "shape": ""
          }
         },
         "name": "wide_variable_12",
         "offsetgroup": "wide_variable_12",
         "orientation": "v",
         "showlegend": true,
         "textposition": "auto",
         "type": "bar",
         "x": [
          1370,
          1371,
          1372,
          1373,
          1374,
          1375,
          1376,
          1377,
          1378,
          1379,
          1380,
          1381,
          1382,
          1383,
          1384,
          1385,
          1386,
          1387,
          1388,
          1389,
          1390,
          1391,
          1392,
          1393,
          1394,
          1395,
          1396,
          1397
         ],
         "xaxis": "x",
         "y": [
          1.2,
          1.5,
          1.8,
          2.5,
          3.7,
          4.5,
          5.3,
          6.3,
          7.5,
          8.5,
          9.4,
          10.9,
          12.6,
          14.5,
          16.1,
          18,
          21.3,
          26.7,
          29.5,
          33.2,
          40.3,
          52.6,
          70.9,
          81.9,
          91.7,
          100,
          109.6,
          null
         ],
         "yaxis": "y"
        },
        {
         "alignmentgroup": "True",
         "hovertemplate": "variable=wide_variable_13<br>x=%{x}<br>value=%{y}<extra></extra>",
         "legendgroup": "wide_variable_13",
         "marker": {
          "color": "#ab63fa",
          "pattern": {
           "shape": ""
          }
         },
         "name": "wide_variable_13",
         "offsetgroup": "wide_variable_13",
         "orientation": "v",
         "showlegend": true,
         "textposition": "auto",
         "type": "bar",
         "x": [
          1370,
          1371,
          1372,
          1373,
          1374,
          1375,
          1376,
          1377,
          1378,
          1379,
          1380,
          1381,
          1382,
          1383,
          1384,
          1385,
          1386,
          1387,
          1388,
          1389,
          1390,
          1391,
          1392,
          1393,
          1394,
          1395,
          1396,
          1397
         ],
         "xaxis": "x",
         "y": [
          20.7,
          24.4,
          22.9,
          35.2,
          49.4,
          23.2,
          17.3,
          18.1,
          20.1,
          12.6,
          11.4,
          15.8,
          15.6,
          15.2,
          10.4,
          11.9,
          18.4,
          25.4,
          10.8,
          12.4,
          21.5,
          30.5,
          34.7,
          15.6,
          11.9,
          9,
          9.6,
          null
         ],
         "yaxis": "y"
        }
       ],
       "layout": {
        "barmode": "group",
        "legend": {
         "title": {
          "text": "variable"
         },
         "tracegroupgap": 0
        },
        "template": {
         "data": {
          "bar": [
           {
            "error_x": {
             "color": "#2a3f5f"
            },
            "error_y": {
             "color": "#2a3f5f"
            },
            "marker": {
             "line": {
              "color": "#E5ECF6",
              "width": 0.5
             },
             "pattern": {
              "fillmode": "overlay",
              "size": 10,
              "solidity": 0.2
             }
            },
            "type": "bar"
           }
          ],
          "barpolar": [
           {
            "marker": {
             "line": {
              "color": "#E5ECF6",
              "width": 0.5
             },
             "pattern": {
              "fillmode": "overlay",
              "size": 10,
              "solidity": 0.2
             }
            },
            "type": "barpolar"
           }
          ],
          "carpet": [
           {
            "aaxis": {
             "endlinecolor": "#2a3f5f",
             "gridcolor": "white",
             "linecolor": "white",
             "minorgridcolor": "white",
             "startlinecolor": "#2a3f5f"
            },
            "baxis": {
             "endlinecolor": "#2a3f5f",
             "gridcolor": "white",
             "linecolor": "white",
             "minorgridcolor": "white",
             "startlinecolor": "#2a3f5f"
            },
            "type": "carpet"
           }
          ],
          "choropleth": [
           {
            "colorbar": {
             "outlinewidth": 0,
             "ticks": ""
            },
            "type": "choropleth"
           }
          ],
          "contour": [
           {
            "colorbar": {
             "outlinewidth": 0,
             "ticks": ""
            },
            "colorscale": [
             [
              0,
              "#0d0887"
             ],
             [
              0.1111111111111111,
              "#46039f"
             ],
             [
              0.2222222222222222,
              "#7201a8"
             ],
             [
              0.3333333333333333,
              "#9c179e"
             ],
             [
              0.4444444444444444,
              "#bd3786"
             ],
             [
              0.5555555555555556,
              "#d8576b"
             ],
             [
              0.6666666666666666,
              "#ed7953"
             ],
             [
              0.7777777777777778,
              "#fb9f3a"
             ],
             [
              0.8888888888888888,
              "#fdca26"
             ],
             [
              1,
              "#f0f921"
             ]
            ],
            "type": "contour"
           }
          ],
          "contourcarpet": [
           {
            "colorbar": {
             "outlinewidth": 0,
             "ticks": ""
            },
            "type": "contourcarpet"
           }
          ],
          "heatmap": [
           {
            "colorbar": {
             "outlinewidth": 0,
             "ticks": ""
            },
            "colorscale": [
             [
              0,
              "#0d0887"
             ],
             [
              0.1111111111111111,
              "#46039f"
             ],
             [
              0.2222222222222222,
              "#7201a8"
             ],
             [
              0.3333333333333333,
              "#9c179e"
             ],
             [
              0.4444444444444444,
              "#bd3786"
             ],
             [
              0.5555555555555556,
              "#d8576b"
             ],
             [
              0.6666666666666666,
              "#ed7953"
             ],
             [
              0.7777777777777778,
              "#fb9f3a"
             ],
             [
              0.8888888888888888,
              "#fdca26"
             ],
             [
              1,
              "#f0f921"
             ]
            ],
            "type": "heatmap"
           }
          ],
          "heatmapgl": [
           {
            "colorbar": {
             "outlinewidth": 0,
             "ticks": ""
            },
            "colorscale": [
             [
              0,
              "#0d0887"
             ],
             [
              0.1111111111111111,
              "#46039f"
             ],
             [
              0.2222222222222222,
              "#7201a8"
             ],
             [
              0.3333333333333333,
              "#9c179e"
             ],
             [
              0.4444444444444444,
              "#bd3786"
             ],
             [
              0.5555555555555556,
              "#d8576b"
             ],
             [
              0.6666666666666666,
              "#ed7953"
             ],
             [
              0.7777777777777778,
              "#fb9f3a"
             ],
             [
              0.8888888888888888,
              "#fdca26"
             ],
             [
              1,
              "#f0f921"
             ]
            ],
            "type": "heatmapgl"
           }
          ],
          "histogram": [
           {
            "marker": {
             "pattern": {
              "fillmode": "overlay",
              "size": 10,
              "solidity": 0.2
             }
            },
            "type": "histogram"
           }
          ],
          "histogram2d": [
           {
            "colorbar": {
             "outlinewidth": 0,
             "ticks": ""
            },
            "colorscale": [
             [
              0,
              "#0d0887"
             ],
             [
              0.1111111111111111,
              "#46039f"
             ],
             [
              0.2222222222222222,
              "#7201a8"
             ],
             [
              0.3333333333333333,
              "#9c179e"
             ],
             [
              0.4444444444444444,
              "#bd3786"
             ],
             [
              0.5555555555555556,
              "#d8576b"
             ],
             [
              0.6666666666666666,
              "#ed7953"
             ],
             [
              0.7777777777777778,
              "#fb9f3a"
             ],
             [
              0.8888888888888888,
              "#fdca26"
             ],
             [
              1,
              "#f0f921"
             ]
            ],
            "type": "histogram2d"
           }
          ],
          "histogram2dcontour": [
           {
            "colorbar": {
             "outlinewidth": 0,
             "ticks": ""
            },
            "colorscale": [
             [
              0,
              "#0d0887"
             ],
             [
              0.1111111111111111,
              "#46039f"
             ],
             [
              0.2222222222222222,
              "#7201a8"
             ],
             [
              0.3333333333333333,
              "#9c179e"
             ],
             [
              0.4444444444444444,
              "#bd3786"
             ],
             [
              0.5555555555555556,
              "#d8576b"
             ],
             [
              0.6666666666666666,
              "#ed7953"
             ],
             [
              0.7777777777777778,
              "#fb9f3a"
             ],
             [
              0.8888888888888888,
              "#fdca26"
             ],
             [
              1,
              "#f0f921"
             ]
            ],
            "type": "histogram2dcontour"
           }
          ],
          "mesh3d": [
           {
            "colorbar": {
             "outlinewidth": 0,
             "ticks": ""
            },
            "type": "mesh3d"
           }
          ],
          "parcoords": [
           {
            "line": {
             "colorbar": {
              "outlinewidth": 0,
              "ticks": ""
             }
            },
            "type": "parcoords"
           }
          ],
          "pie": [
           {
            "automargin": true,
            "type": "pie"
           }
          ],
          "scatter": [
           {
            "fillpattern": {
             "fillmode": "overlay",
             "size": 10,
             "solidity": 0.2
            },
            "type": "scatter"
           }
          ],
          "scatter3d": [
           {
            "line": {
             "colorbar": {
              "outlinewidth": 0,
              "ticks": ""
             }
            },
            "marker": {
             "colorbar": {
              "outlinewidth": 0,
              "ticks": ""
             }
            },
            "type": "scatter3d"
           }
          ],
          "scattercarpet": [
           {
            "marker": {
             "colorbar": {
              "outlinewidth": 0,
              "ticks": ""
             }
            },
            "type": "scattercarpet"
           }
          ],
          "scattergeo": [
           {
            "marker": {
             "colorbar": {
              "outlinewidth": 0,
              "ticks": ""
             }
            },
            "type": "scattergeo"
           }
          ],
          "scattergl": [
           {
            "marker": {
             "colorbar": {
              "outlinewidth": 0,
              "ticks": ""
             }
            },
            "type": "scattergl"
           }
          ],
          "scattermapbox": [
           {
            "marker": {
             "colorbar": {
              "outlinewidth": 0,
              "ticks": ""
             }
            },
            "type": "scattermapbox"
           }
          ],
          "scatterpolar": [
           {
            "marker": {
             "colorbar": {
              "outlinewidth": 0,
              "ticks": ""
             }
            },
            "type": "scatterpolar"
           }
          ],
          "scatterpolargl": [
           {
            "marker": {
             "colorbar": {
              "outlinewidth": 0,
              "ticks": ""
             }
            },
            "type": "scatterpolargl"
           }
          ],
          "scatterternary": [
           {
            "marker": {
             "colorbar": {
              "outlinewidth": 0,
              "ticks": ""
             }
            },
            "type": "scatterternary"
           }
          ],
          "surface": [
           {
            "colorbar": {
             "outlinewidth": 0,
             "ticks": ""
            },
            "colorscale": [
             [
              0,
              "#0d0887"
             ],
             [
              0.1111111111111111,
              "#46039f"
             ],
             [
              0.2222222222222222,
              "#7201a8"
             ],
             [
              0.3333333333333333,
              "#9c179e"
             ],
             [
              0.4444444444444444,
              "#bd3786"
             ],
             [
              0.5555555555555556,
              "#d8576b"
             ],
             [
              0.6666666666666666,
              "#ed7953"
             ],
             [
              0.7777777777777778,
              "#fb9f3a"
             ],
             [
              0.8888888888888888,
              "#fdca26"
             ],
             [
              1,
              "#f0f921"
             ]
            ],
            "type": "surface"
           }
          ],
          "table": [
           {
            "cells": {
             "fill": {
              "color": "#EBF0F8"
             },
             "line": {
              "color": "white"
             }
            },
            "header": {
             "fill": {
              "color": "#C8D4E3"
             },
             "line": {
              "color": "white"
             }
            },
            "type": "table"
           }
          ]
         },
         "layout": {
          "annotationdefaults": {
           "arrowcolor": "#2a3f5f",
           "arrowhead": 0,
           "arrowwidth": 1
          },
          "autotypenumbers": "strict",
          "coloraxis": {
           "colorbar": {
            "outlinewidth": 0,
            "ticks": ""
           }
          },
          "colorscale": {
           "diverging": [
            [
             0,
             "#8e0152"
            ],
            [
             0.1,
             "#c51b7d"
            ],
            [
             0.2,
             "#de77ae"
            ],
            [
             0.3,
             "#f1b6da"
            ],
            [
             0.4,
             "#fde0ef"
            ],
            [
             0.5,
             "#f7f7f7"
            ],
            [
             0.6,
             "#e6f5d0"
            ],
            [
             0.7,
             "#b8e186"
            ],
            [
             0.8,
             "#7fbc41"
            ],
            [
             0.9,
             "#4d9221"
            ],
            [
             1,
             "#276419"
            ]
           ],
           "sequential": [
            [
             0,
             "#0d0887"
            ],
            [
             0.1111111111111111,
             "#46039f"
            ],
            [
             0.2222222222222222,
             "#7201a8"
            ],
            [
             0.3333333333333333,
             "#9c179e"
            ],
            [
             0.4444444444444444,
             "#bd3786"
            ],
            [
             0.5555555555555556,
             "#d8576b"
            ],
            [
             0.6666666666666666,
             "#ed7953"
            ],
            [
             0.7777777777777778,
             "#fb9f3a"
            ],
            [
             0.8888888888888888,
             "#fdca26"
            ],
            [
             1,
             "#f0f921"
            ]
           ],
           "sequentialminus": [
            [
             0,
             "#0d0887"
            ],
            [
             0.1111111111111111,
             "#46039f"
            ],
            [
             0.2222222222222222,
             "#7201a8"
            ],
            [
             0.3333333333333333,
             "#9c179e"
            ],
            [
             0.4444444444444444,
             "#bd3786"
            ],
            [
             0.5555555555555556,
             "#d8576b"
            ],
            [
             0.6666666666666666,
             "#ed7953"
            ],
            [
             0.7777777777777778,
             "#fb9f3a"
            ],
            [
             0.8888888888888888,
             "#fdca26"
            ],
            [
             1,
             "#f0f921"
            ]
           ]
          },
          "colorway": [
           "#636efa",
           "#EF553B",
           "#00cc96",
           "#ab63fa",
           "#FFA15A",
           "#19d3f3",
           "#FF6692",
           "#B6E880",
           "#FF97FF",
           "#FECB52"
          ],
          "font": {
           "color": "#2a3f5f"
          },
          "geo": {
           "bgcolor": "white",
           "lakecolor": "white",
           "landcolor": "#E5ECF6",
           "showlakes": true,
           "showland": true,
           "subunitcolor": "white"
          },
          "hoverlabel": {
           "align": "left"
          },
          "hovermode": "closest",
          "mapbox": {
           "style": "light"
          },
          "paper_bgcolor": "white",
          "plot_bgcolor": "#E5ECF6",
          "polar": {
           "angularaxis": {
            "gridcolor": "white",
            "linecolor": "white",
            "ticks": ""
           },
           "bgcolor": "#E5ECF6",
           "radialaxis": {
            "gridcolor": "white",
            "linecolor": "white",
            "ticks": ""
           }
          },
          "scene": {
           "xaxis": {
            "backgroundcolor": "#E5ECF6",
            "gridcolor": "white",
            "gridwidth": 2,
            "linecolor": "white",
            "showbackground": true,
            "ticks": "",
            "zerolinecolor": "white"
           },
           "yaxis": {
            "backgroundcolor": "#E5ECF6",
            "gridcolor": "white",
            "gridwidth": 2,
            "linecolor": "white",
            "showbackground": true,
            "ticks": "",
            "zerolinecolor": "white"
           },
           "zaxis": {
            "backgroundcolor": "#E5ECF6",
            "gridcolor": "white",
            "gridwidth": 2,
            "linecolor": "white",
            "showbackground": true,
            "ticks": "",
            "zerolinecolor": "white"
           }
          },
          "shapedefaults": {
           "line": {
            "color": "#2a3f5f"
           }
          },
          "ternary": {
           "aaxis": {
            "gridcolor": "white",
            "linecolor": "white",
            "ticks": ""
           },
           "baxis": {
            "gridcolor": "white",
            "linecolor": "white",
            "ticks": ""
           },
           "bgcolor": "#E5ECF6",
           "caxis": {
            "gridcolor": "white",
            "linecolor": "white",
            "ticks": ""
           }
          },
          "title": {
           "x": 0.05
          },
          "xaxis": {
           "automargin": true,
           "gridcolor": "white",
           "linecolor": "white",
           "ticks": "",
           "title": {
            "standoff": 15
           },
           "zerolinecolor": "white",
           "zerolinewidth": 2
          },
          "yaxis": {
           "automargin": true,
           "gridcolor": "white",
           "linecolor": "white",
           "ticks": "",
           "title": {
            "standoff": 15
           },
           "zerolinecolor": "white",
           "zerolinewidth": 2
          }
         }
        },
        "title": {
         "text": "CPI index"
        },
        "xaxis": {
         "anchor": "y",
         "domain": [
          0,
          1
         ],
         "title": {
          "text": "x"
         }
        },
        "yaxis": {
         "anchor": "x",
         "domain": [
          0,
          1
         ],
         "title": {
          "text": "value"
         }
        }
       }
      }
     },
     "metadata": {},
     "output_type": "display_data"
    }
   ],
   "source": [
    "fig=px.scatter(df.dropna(), x='year', y='inflation', \n",
    "           size='avgYear', trendline='ols')\n",
    "\n",
    "fig.show()\n",
    "# %%\n",
    "fig=px.bar(y=[df[col] for col in df.columns[::-1] if col !='year'], x=df['year'], \n",
    "       barmode='group',\n",
    "            labels=[col for col in df.columns if col !='year'],\n",
    "       title=\"CPI index\")\n",
    "# fig.update_layout(hovermode='x unified')\n",
    "\n",
    "fig.show()"
   ]
  },
  {
   "cell_type": "code",
   "execution_count": 5,
   "metadata": {},
   "outputs": [
    {
     "data": {
      "text/html": [
       "\n",
       "        <iframe\n",
       "            width=\"100%\"\n",
       "            height=\"475\"\n",
       "            src=\"http://kamyar-System-Product-Name:40001/dtale/iframe/1\"\n",
       "            frameborder=\"0\"\n",
       "            allowfullscreen\n",
       "            \n",
       "        ></iframe>\n",
       "        "
      ],
      "text/plain": [
       "<IPython.lib.display.IFrame at 0x7f2b1bde71f0>"
      ]
     },
     "metadata": {},
     "output_type": "display_data"
    },
    {
     "data": {
      "text/plain": []
     },
     "execution_count": 5,
     "metadata": {},
     "output_type": "execute_result"
    }
   ],
   "source": [
    "d = dtale.show(df)\n",
    "d"
   ]
  }
 ],
 "metadata": {
  "kernelspec": {
   "display_name": "Python 3.8.13 ('vision')",
   "language": "python",
   "name": "python3"
  },
  "language_info": {
   "codemirror_mode": {
    "name": "ipython",
    "version": 3
   },
   "file_extension": ".py",
   "mimetype": "text/x-python",
   "name": "python",
   "nbconvert_exporter": "python",
   "pygments_lexer": "ipython3",
   "version": "3.8.13"
  },
  "orig_nbformat": 4,
  "vscode": {
   "interpreter": {
    "hash": "aa0259a44b0c041fe122e4cf1f5e5d88a0d91c22f86324b3d6c9100d1eac1625"
   }
  }
 },
 "nbformat": 4,
 "nbformat_minor": 2
}
